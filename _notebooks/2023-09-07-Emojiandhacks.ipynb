{
 "cells": [
  {
   "cell_type": "markdown",
   "metadata": {},
   "source": [
    "---\n",
    "toc: true\n",
    "comments: true\n",
    "layout: post\n",
    "title: Batman Final\n",
    "description: Final presentation for week 3 of CSP.\n",
    "type: hacks\n",
    "courses: { compsci: {week: 3} }\n",
    "---"
   ]
  },
  {
   "cell_type": "markdown",
   "metadata": {},
   "source": [
    "> ## Project Overview \n",
    "> For our final project we decided to create post about Batman that incoperates everything we've learned so far. This includes character information, statistics using tables, embedded images, a video made by us, and a custom Batman-themed game. (More info see )\n",
    "\n",
    "## Python Hack Article\n",
    "- My partner and I used emojize and newspaper3k to prived an article about Batmans wealth!"
   ]
  },
  {
   "cell_type": "code",
   "execution_count": 10,
   "metadata": {},
   "outputs": [
    {
     "name": "stdout",
     "output_type": "stream",
     "text": [
      "Have you ever wondered how Bruce Wayne is able to fund his vigilantism as Batman? 🤔\n"
     ]
    },
    {
     "data": {
      "text/markdown": [
       "Here’s How Rich Batman (Bruce Wayne) Really Is"
      ],
      "text/plain": [
       "<IPython.core.display.Markdown object>"
      ]
     },
     "metadata": {},
     "output_type": "display_data"
    },
    {
     "data": {
      "text/markdown": [
       "Many of the most iconic superheroes created by Marvel and DC come from wealthy backgrounds, or they have built their careers to acquire enormous sums of wealth. Batman has been infamous for his seemingly endless list of resources, money, and connections, but many fans are still eager to know how rich Bruce Wayne really is.\n",
       "\n",
       "Bruce Wayne is currently a millionare. Bruce Wayne initially had a net worth of around $9.2 billion, which rose to a figure between $100 and $200 billion before over $100 billion was stolen by the Joker. It’s believed that Bruce Wayne became a millionaire recently and only became a trillionaire in the Injustice Universe.\n",
       "\n",
       "Although many heroes have had rough origin stories or even poverty-stricken childhoods, Batman had been wealthy long before he gained the name. Stick around to find out everything there is to know about Bruce Wayne’s wealth, including how rich Batman really is as well as where he got his money.\n",
       "\n",
       "How did Bruce Wayne get his wealth?\n",
       "\n",
       "Batman inherited his wealth after the tragic murder of his parents, which took place when Bruce Wayne was only around 8 years old. He went on to inherit Wayne Manor and continue the legacy of Wayne Enterprises, which has roots in 17th-century Gotham and developed into a diversified multinational conglomerate.\n",
       "\n",
       "Many reports state that Wayne Enterprises had a total value of around $31.3 billion (believed to be based on the Batman movies), although many believe the figure is much higher. According to fans, the true value of Wayne Enterprises in modern times is believed to be over $500 billion, with the value of equity being over $300 billion when accounting for inflation.\n",
       "\n",
       "Much like renowned companies in the real world, Wayne Enterprises operates through a number of subsidiaries – including Wayne Aerospace, Wayne Energy, Wayne Construction, Wayne Entertainment, Wayne Foods, and more. Bruce Wayne has been the majority shareholder and chairman of Wayne Enterprises for most of his life, leading to insanely high profits over the years.\n",
       "\n",
       "How rich is Bruce Wayne?\n",
       "\n",
       "The key factor in terms of how much money Bruce Wayne actually has depends on the DC universes and timeline, as these aspects differ along with events, character deaths, and much more. In the main DC comics, Batman is considered a billionaire.\n",
       "\n",
       "Bruce Wayne had a reported wealth of around $9.2 billion (believed to be based on the movies). Still, some fans believe this could have reached figures over $160 billion with a higher calculated worth of Wayne Enterprises in the comics.\n",
       "\n",
       "It’s believed that Bruce Wayne would have had a net worth of between $100 and $200 billion for the majority of his career (which would put him in the same league as Elon Musk and Jeff Bezos in the real world). Having no superpowers, Bruce Wayne used much of this wealth to support his work as Batman.\n",
       "\n",
       "How much does it cost Bruce Wayne to be Batman?\n",
       "\n",
       "Batman would have needed approximately $682,450,750 in order to take on the role, including all of the payments needed for repairs as well as his gadgets and tech. Below is a quick estimated overview of how much money it cost Bruce Wayne to be Batman, thanks to Comic Historian Thaddeus Howze.\n",
       "\n",
       "Batman’s Bulletproof Cape and Cowls: $1,058,600\n",
       "\n",
       "The Tumbler Batmobile: $18,000,000\n",
       "\n",
       "The Batpod Motorcycle: $1,500,000\n",
       "\n",
       "Batman’s Flying Vehicle: $60,000,000\n",
       "\n",
       "Batman’s Utility Belt Gadgets (bat-shaped shuriken, smoke grenades, and gizmos): $400,000\n",
       "\n",
       "Training Fees: $1,750,000\n",
       "\n",
       "Wayne Manor Maintenance: $600,000,000\n",
       "\n",
       "Alfred’s Annual Salary: $240,000\n",
       "\n",
       "How Batman lost his money\n",
       "\n",
       "Bruce Wayne would spend millions on damages following Damian Wayne’s training sessions each week. However, this changed with more recent releases (spoilers alert), such as The Dark Knight Rises releases in 2012, which showed Batman lose a fortune due to a Gotham Stock Exchange heist by Bane.\n",
       "\n",
       "While Batman was able to keep Wayne Manor after this event, he lost most of his wealth with the release of Batman Vol. 3 # 93 in 2020. This issue shows the Joker successfully draining all of Batman’s accounts to prevent him from funding his crime-fighting resources.\n",
       "\n",
       "The issue went on to state that the Joker had obtained over $100 billion from Batman’s bank accounts – which would leave Bruce Wayne with an unknown sum of wealth. Even though the Joker was caught, the government informed Batman that it was virtually impossible to bankroll whatever he may need for his Batman activities without shedding light on Bruce Wayne.\n",
       "\n",
       "Bruce was also removed from the Wayne Enterprises board and was given a “generous” annual stipend to stay away from the company. Batman Vol. 3 #119 followed up on these events, showing that Batman had to give up the Batcave, Wayne Manor, funding the Bat Family, and his Batman Inc. team, performing Batmobile maintenance himself.\n",
       "\n",
       "However, Batman always seems to have something up his sleeve and is prepared for just about any scenario. Most fans expect that he still has a sizeable sum of money elsewhere in addition to his annual stipend, and Bruce Wayne likely has a net worth in the millions nowadays.\n",
       "\n",
       "Is Batman a trillionaire?\n",
       "\n",
       "Batman started off as a millionaire and became a billionaire over time, although he never became a trillionaire in the main storyline. Bruce Wayne only became a trillionaire in the Injustice Universe after inheriting Lex Luthor’s wealth, companies, properties, stocks, and more after he was killed by Superman – which amounted to Bruce Wayne’s net worth reaching around $5 trillion.\n",
       "\n",
       "For more information on how Batman became a trillionaire, check out the video below by NeedleMouse Productions.\n",
       "\n",
       "Who is richer: Iron Man or Batman?\n",
       "\n",
       "If we assume that Bruce Wayne only has a net worth of approximately $9.2 billion or less, it would make Iron Man wealthier – as Tony Stark has a reported net worth of $12.4 billion thanks to Stark Industries. Bruce Wayne would have only been richer than Tony Stark in the time he had over $100 billion in wealth or in the Injustice Universe.\n",
       "\n",
       "That’s everything there is to know about how rich Bruce Wayne really is, with stats thanks to News Nation. While Batman may have started his journey with tons of funds and availabilities, he is not as rich in modern times – that being said, Batman is still incredibly wealthy when compared to many Marvel and DC superheroes.\n",
       "\n",
       "What do you think about how rich Batman is? Let us know in the comments below!"
      ],
      "text/plain": [
       "<IPython.core.display.Markdown object>"
      ]
     },
     "metadata": {},
     "output_type": "display_data"
    },
    {
     "name": "stdout",
     "output_type": "stream",
     "text": [
      "\n",
      "\n"
     ]
    }
   ],
   "source": [
    "from emoji import emojize\n",
    "print(emojize(\"Have you ever wondered how Bruce Wayne is able to fund his vigilantism as Batman? :thinking_face:\"))\n",
    "\n",
    "from newspaper import Article\n",
    "from IPython.display import display, Markdown\n",
    "\n",
    "\n",
    "urls = [\"https://www.comicbasics.com/heres-how-rich-batman-bruce-wayne-really-is/#:~:text=In%20the%20main%20DC%20comics,be%20based%20on%20the%20movies).\"]\n",
    "\n",
    "for url in urls:\n",
    "    article = Article(url)\n",
    "    article.download()\n",
    "    article.parse()\n",
    "    # Jupyter Notebook Display\n",
    "    # print(article.title)\n",
    "    display(Markdown(article.title)) # Jupyter display only\n",
    "    display(Markdown(article.text)) # Jupyter display only\n",
    "    print(\"\\n\")\n"
   ]
  },
  {
   "cell_type": "markdown",
   "metadata": {},
   "source": [
    "## Batman Javascript Game"
   ]
  }
 ],
 "metadata": {
  "kernelspec": {
   "display_name": "Python 3",
   "language": "python",
   "name": "python3"
  },
  "language_info": {
   "codemirror_mode": {
    "name": "ipython",
    "version": 3
   },
   "file_extension": ".py",
   "mimetype": "text/x-python",
   "name": "python",
   "nbconvert_exporter": "python",
   "pygments_lexer": "ipython3",
   "version": "3.10.12"
  },
  "orig_nbformat": 4
 },
 "nbformat": 4,
 "nbformat_minor": 2
}
