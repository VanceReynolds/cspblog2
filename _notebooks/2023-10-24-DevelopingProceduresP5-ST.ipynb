{
 "cells": [
  {
   "cell_type": "markdown",
   "metadata": {},
   "source": [
    "---\n",
    "# toc: true\n",
    "comments: false\n",
    "layout: default\n",
    "title: Developing Procedures \n",
    "type: tangibles \n",
    "courses: { compsci: {week: 9} }\n",
    "description: CB 3.12,3.13 Developing Procedures\n",
    "---"
   ]
  },
  {
   "cell_type": "markdown",
   "metadata": {},
   "source": [
    "<h1>- CB 3.12,3.13 Developing Procedures</h1>"
   ]
  },
  {
   "cell_type": "markdown",
   "metadata": {},
   "source": [
    "\n",
    "What is a procedure?\n",
    "\n",
    "A procedure is a named group of code that has paramaters and return values. Procedures are known as methods or functions depending on the language.\n",
    "\n",
    "A procedure executes the statements within it on the parameters to provide a return value.\n",
    "\n",
    "What are parameters?\n",
    "\n",
    "Paramaters are input values of a procedure that are specified by arguments.Arguments specify the values of the parameters when a procedure is called.\n",
    "\n",
    "By creating theses algorithms the readibility of code increases and the complexity decreases. This is becasue a function's name can tell the reader what action it will perform, and by calling it, the code becomes more clean and easy to understand.\n",
    "\n"
   ]
  },
  {
   "cell_type": "markdown",
   "metadata": {},
   "source": [
    "<h1>What is a return value?</h1>\n",
    "<h3>A return value is the value that is returned when a function or a method is called.</h3>\n",
    "<h3>That return value can be assigned or printed</h3>"
   ]
  },
  {
   "cell_type": "markdown",
   "metadata": {},
   "source": [
    "<img src = \"/passionProject/_notebooks/images.png\">"
   ]
  },
  {
   "cell_type": "markdown",
   "metadata": {},
   "source": [
    "Procedures are used to create algorthims that can perform certain actions or return values. When a procedure returns a value, theis information must be stored in a variable for later use. However some procedures like the MOVE_FORWARD() perform an action, and don't return a value. The image above provides an example of where procedures that don't output a value would be used."
   ]
  },
  {
   "cell_type": "code",
   "execution_count": null,
   "metadata": {},
   "outputs": [],
   "source": [
    "A 60$ item recieves a 20% discount and taxed at 8%.\n",
    "PROCEDURE applyDiscount(cost, percentDiscounted)\n",
    "{\n",
    "    temp ← 100 - percentDiscounted\n",
    "    temp← temp/ 100\n",
    "    cost ← cost *temp\n",
    "    RETURN(cost)\n",
    "}\n",
    "\n",
    "price ← applyDiscount(60, 20)\n",
    "This is how we get the final price with the discount by calling the procedure and assigning it to the price variable.\n",
    "\n",
    "\n",
    "PROCEDURE applyTax(cost, percentTaxed)\n",
    "{\n",
    "    temp ← 100 + percentTaxed\n",
    "    temp← temp/ 100\n",
    "    cost ← cost *temp\n",
    "    RETURN(cost)\n",
    "}\n",
    "price ← applyTax(price, 8)\n",
    "This applys the 8% tax to the price determined after the discount."
   ]
  },
  {
   "cell_type": "markdown",
   "metadata": {},
   "source": [
    "<h3>Popcorn Hack 1</h3>\n",
    "Given the applyTax procedure above:\n",
    "How would you call the procedure to get it to find the price using cost = 50, and percentTaxed = 10, and what value will it return?"
   ]
  },
  {
   "cell_type": "code",
   "execution_count": 7,
   "metadata": {},
   "outputs": [
    {
     "name": "stdout",
     "output_type": "stream",
     "text": [
      "easy popcorn hacks\n"
     ]
    }
   ],
   "source": [
    "bravo = input(\"what do you want\")\n",
    "print(bravo)"
   ]
  },
  {
   "cell_type": "markdown",
   "metadata": {},
   "source": [
    "<h1>What Are Functions?</h1>\n",
    "<ul>\n",
    "    <li>Collections of code</li>\n",
    "    <li>Divides large program into smaller chunks</li>\n",
    "    <li>Better readability</li>\n",
    "    <li>Less repetitive code</li>\n",
    "    <li>More efficient code</li>\n",
    "    <li>Good organization</li>\n",
    "</ul>\n",
    "\n",
    "\n",
    "\n",
    "<h1>What Are The Components of a Function?</h1>\n",
    "<ul>\n",
    "    <li>The function declaration</li>\n",
    "    <li>The parameters (input). This is also referred to as an argument when a value is being passed to the actual function.</li>\n",
    "    <li>The functionality</li>\n",
    "    <li>The return value (output)</li>\n",
    "    <li>Calling the function</li>\n",
    "</ul>"
   ]
  },
  {
   "cell_type": "code",
   "execution_count": null,
   "metadata": {},
   "outputs": [],
   "source": [
    "# Defining Functions\n",
    "#\n",
    "# def function_name(parameter1, parameter2, etc..):\n",
    "#     code here...\n",
    "#\n",
    "#     return return_value;\n",
    "\n",
    "# return the value of parameter1 plus parameter2;\n",
    "def add(parameter1, parameter2): # creates a function that takes in two parameters\n",
    "    solution = parameter1 + parameter2; # sets solution to the sum of parameter1 and parameter2\n",
    "    return solution; # return solution\n",
    "    \n",
    "print(add(5, 5)); # prints the return value of add(5,5)"
   ]
  },
  {
   "cell_type": "markdown",
   "metadata": {},
   "source": [
    "<h2 style=\"font-weight:bold\">Popcorn Hack 2:</h2>\n",
    "<h3>1. Make a function that returns the difference of two numbers</h3>"
   ]
  },
  {
   "cell_type": "code",
   "execution_count": 14,
   "metadata": {},
   "outputs": [
    {
     "name": "stdout",
     "output_type": "stream",
     "text": [
      "7\n"
     ]
    }
   ],
   "source": [
    "parameter1 = int(input(\"input a number\"))\n",
    "parameter2 = int(input(\"input a second number\"))\n",
    "\n",
    "def add(parameter1, parameter2):\n",
    "    solution = parameter1 + parameter2\n",
    "    return solution; \n",
    "\n",
    "print(add(parameter1, parameter2))"
   ]
  },
  {
   "cell_type": "markdown",
   "metadata": {},
   "source": [
    "<h1>What is a Class?</h1>\n",
    "<ul>\n",
    "    <li>A class is an outline for a set of nested functions and variables.</li>\n",
    "    <li>There are instance variables</li>\n",
    "    <li>Functions</li>\n",
    "    <ul>\n",
    "        <li>Constructor method (Required)</li>\n",
    "        <li>To String method</li>\n",
    "        <li>Getter method</li>\n",
    "        <li>Setter method</li>\n",
    "    </ul>\n",
    "</ul>\n",
    "<h1>How Does a Class Work?</h1>"
   ]
  },
  {
   "cell_type": "code",
   "execution_count": null,
   "metadata": {},
   "outputs": [],
   "source": [
    "# Defining Classes\n",
    "class person:\n",
    "    def __init__(self, name, age, ): # constructor\n",
    "        self.name = name;\n",
    "        self.age = age;\n",
    "    \n",
    "    def getName(self): # method to create get name\n",
    "        return self.name;\n",
    "    \n",
    "    def getAge(self): # method to create get age\n",
    "        return self.age;\n",
    "    \n",
    "    def setName(self, name): # method to create set name\n",
    "        self.name = name;\n",
    "        \n",
    "    def setAge(self, age): # method to create set age\n",
    "        self.age = age;\n",
    "        \n",
    "    def yearOlder(self): # method to increment age by 1\n",
    "        self.age += 1;\n",
    "        \n",
    "    def __str__(self): # method that returns a string when the object is printed\n",
    "        return (f\"My name is {self.name} and I am {self.age} years old.\")\n",
    "\n",
    "Person1 = person(\"John Doe\", 15);\n",
    "print(Person1)\n",
    "\n",
    "\n",
    "print(Person1);"
   ]
  },
  {
   "cell_type": "markdown",
   "metadata": {},
   "source": [
    "<h2 style=\"font-weight:bold\">Popcorn Hack 3:</h2>\n",
    "<h3>1. Create a Car class which has the attributes model, vehicle name, and price</h3>\n",
    "<h3>2. Create instances of the following cars</h3>\n",
    "<ul>\n",
    "    <li>Name: Honda Civic , Model Year: 2018 , Price: $13,000 </li>\n",
    "    <li>Name: Toyota Prius, Model Year: 2023 , Price: $28,000 </li>\n",
    "    <li>Name: Chevrolet Impala, Model Year: 2020 , Price: $22,000 </li>\n",
    "</ul>"
   ]
  },
  {
   "cell_type": "code",
   "execution_count": 22,
   "metadata": {},
   "outputs": [
    {
     "name": "stdout",
     "output_type": "stream",
     "text": [
      "Car 1:\n",
      "Name: Honda Civic\n",
      "Model Year: 2018\n",
      "Price: $13000\n",
      "\n",
      "Car 2:\n",
      "Name: Toyota Prius\n",
      "Model Year: 2023\n",
      "Price: $28000\n",
      "\n",
      "Car 3:\n",
      "Name: Chevrolet Impala\n",
      "Model Year: 2020\n",
      "Price: $22000\n"
     ]
    }
   ],
   "source": [
    "#popcorn hack #3\n",
    "\n",
    "class Car:\n",
    "    def __init__(self, name, model_year, price):\n",
    "        self.name = name\n",
    "        self.model_year = model_year\n",
    "        self.price = price\n",
    "\n",
    "# Creating instances of the specified cars\n",
    "honda_civic = Car(\"Honda Civic\", 2018, 13000)\n",
    "toyota_prius = Car(\"Toyota Prius\", 2023, 28000)\n",
    "chevrolet_impala = Car(\"Chevrolet Impala\", 2020, 22000)\n",
    "\n",
    "# Printing the car information\n",
    "print(\"Car 1:\")\n",
    "print(f\"Name: {honda_civic.name}\")\n",
    "print(f\"Model Year: {honda_civic.model_year}\")\n",
    "print(f\"Price: ${honda_civic.price}\")\n",
    "print()\n",
    "\n",
    "print(\"Car 2:\")\n",
    "print(f\"Name: {toyota_prius.name}\")\n",
    "print(f\"Model Year: {toyota_prius.model_year}\")\n",
    "print(f\"Price: ${toyota_prius.price}\")\n",
    "print()\n",
    "\n",
    "print(\"Car 3:\")\n",
    "print(f\"Name: {chevrolet_impala.name}\")\n",
    "print(f\"Model Year: {chevrolet_impala.model_year}\")\n",
    "print(f\"Price: ${chevrolet_impala.price}\")"
   ]
  },
  {
   "cell_type": "markdown",
   "metadata": {},
   "source": [
    "<h1>Homework:</h1>\n",
    "<h2>Assignment 1: How do you use functions?</h2>\n",
    "<h3>Create a turtle python function that...</h3>\n",
    "<ol>\n",
    "    <li>Takes a single parameter as the number of sides</li>\n",
    "    <li>Outputs a shape corresponding to the number of sides</li>\n",
    "    <li>Call the function with the argument being a variable with the user input</li>\n",
    "</ol>\n",
    "<h3>Hint: </h3>"
   ]
  },
  {
   "cell_type": "code",
   "execution_count": 28,
   "metadata": {},
   "outputs": [],
   "source": [
    "import turtle\n",
    "\n",
    "# Initialize the Turtle Graphics window\n",
    "turtle.setup(400, 400)\n",
    "pen = turtle.Turtle()\n",
    "\n",
    "def draw_square():\n",
    "    for _ in range(4):\n",
    "        pen.forward(50)  # Move forward by 50 units\n",
    "        pen.right(90)    # Turn right by 90 degrees\n",
    "\n",
    "# Call the draw_square function to draw a square\n",
    "draw_square()\n",
    "\n",
    "turtle.done()  # Finish drawing and close the window when done"
   ]
  },
  {
   "cell_type": "markdown",
   "metadata": {},
   "source": [
    "<h2>Assignment 2:</h2>\n",
    "<h3>Create a student class that...</h3>\n",
    "<ol>\n",
    "    <li>Has a constructor that takes three parameters as attributes</li>\n",
    "    <li>\n",
    "        <ul>\n",
    "            <li>email</li>\n",
    "            <li>name</li>\n",
    "            <li>grade</li>\n",
    "        </ul>\n",
    "    </li>\n",
    "    <li>Three getter methods to access the name, email, and grade</li>\n",
    "    <li>Three setter methods to modify the name, email, and grade</li>\n",
    "    <li>A to string method that returns the three instance variables in this format - \"My name is {name}. My email is {email}. My grade is {grade}</li>\n",
    "    <li>Create an instance of the class that corresponds with you</li>\n",
    "</ol>\n"
   ]
  },
  {
   "cell_type": "code",
   "execution_count": 33,
   "metadata": {},
   "outputs": [
    {
     "name": "stdout",
     "output_type": "stream",
     "text": [
      "Ronit's Info:\n",
      "Name: Ronit\n",
      "Email: ronit@ronit.com\n",
      "Grade: 95\n",
      "My name is Ronit. My email is ronit@ronit.com. My grade is 95\n",
      "\n",
      "Vance's Info:\n",
      "Name: Vance\n",
      "Email: vance@vance.com\n",
      "Grade: 88\n",
      "My name is Vance. My email is vance@vance.com. My grade is 88\n",
      "\n",
      "Jared's Info:\n",
      "Name: Jared\n",
      "Email: jared@jared.com\n",
      "Grade: 92\n",
      "My name is Jared. My email is jared@jared.com. My grade is 92\n"
     ]
    }
   ],
   "source": [
    "class Student:\n",
    "    def __init__(self, email, name, grade):\n",
    "        self.email = email\n",
    "        self.name = name\n",
    "        self.grade = grade\n",
    "\n",
    "    # Getter methods\n",
    "    def get_email(self):\n",
    "        return self.email\n",
    "\n",
    "    def get_name(self):\n",
    "        return self.name\n",
    "\n",
    "    def get_grade(self):\n",
    "        return self.grade\n",
    "\n",
    "    # Setter methods\n",
    "    def set_email(self, email):\n",
    "        self.email = email\n",
    "\n",
    "    def set_name(self, name):\n",
    "        self.name = name\n",
    "\n",
    "    def set_grade(self, grade):\n",
    "        self.grade = grade\n",
    "\n",
    "    # to_string method\n",
    "    def to_string(self):\n",
    "        return f\"My name is {self.name}. My email is {self.email}. My grade is {self.grade}\"\n",
    "\n",
    "# Create instances of the Student class\n",
    "ronit = Student(\"ronit@ronit.com\", \"Ronit\", 95)\n",
    "vance = Student(\"vance@vance.com\", \"Vance\", 88)\n",
    "jared = Student(\"jared@jared.com\", \"Jared\", 92)\n",
    "\n",
    "# Accessing and printing the information of each student\n",
    "print(\"Ronit's Info:\")\n",
    "print(\"Name:\", ronit.get_name())\n",
    "print(\"Email:\", ronit.get_email())\n",
    "print(\"Grade:\", ronit.get_grade())\n",
    "print(ronit.to_string())\n",
    "\n",
    "print(\"\\nVance's Info:\")\n",
    "print(\"Name:\", vance.get_name())\n",
    "print(\"Email:\", vance.get_email())\n",
    "print(\"Grade:\", vance.get_grade())\n",
    "print(vance.to_string())\n",
    "\n",
    "print(\"\\nJared's Info:\")\n",
    "print(\"Name:\", jared.get_name())\n",
    "print(\"Email:\", jared.get_email())\n",
    "print(\"Grade:\", jared.get_grade())\n",
    "print(jared.to_string())\n"
   ]
  }
 ],
 "metadata": {
  "kernelspec": {
   "display_name": "Python 3",
   "language": "python",
   "name": "python3"
  },
  "language_info": {
   "codemirror_mode": {
    "name": "ipython",
    "version": 3
   },
   "file_extension": ".py",
   "mimetype": "text/x-python",
   "name": "python",
   "nbconvert_exporter": "python",
   "pygments_lexer": "ipython3",
   "version": "3.10.12"
  },
  "orig_nbformat": 4
 },
 "nbformat": 4,
 "nbformat_minor": 2
}
