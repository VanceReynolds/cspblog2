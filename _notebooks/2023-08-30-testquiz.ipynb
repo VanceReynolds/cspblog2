{
 "cells": [
  {
   "cell_type": "code",
   "execution_count": 1,
   "metadata": {},
   "outputs": [
    {
     "name": "stdout",
     "output_type": "stream",
     "text": [
      "Bat-tastic Vance\n",
      "Sorry Ronit, You're not looking like Batman\n",
      "Sorry Vance, You're not looking like Batman\n",
      "Bat-tasticRonit\n",
      "Bat-tastic Vance\n",
      "Sorry Ronit, You're not looking like Batman\n",
      "2\n",
      "1\n",
      "Vanceis BATMAN and Ronit is Alfred....\n",
      "Vance and Ronit are BatMEN\n"
     ]
    }
   ],
   "source": [
    "playerone_score=0\n",
    "playertwo_score=0\n",
    "player_one=input(\"What is your name Player 1?\")\n",
    "player_two=input(\"What is your name Player 2?\")\n",
    "def question(question, answer):\n",
    "    global playerone_score\n",
    "    global playertwo_score\n",
    "    response = input(player_one + \",\" + question)\n",
    "    if response == answer:\n",
    "        print(\"Bat-tastic \" + player_one)\n",
    "        playerone_score+=1\n",
    "    else:\n",
    "        print(\"Sorry \" + player_one + \", You're not looking like Batman\")\n",
    "    response = input(player_two + \",\" + question)\n",
    "    if response == answer:\n",
    "        print(\"Bat-tastic\" + player_two)\n",
    "        playertwo_score+=1\n",
    "    else:\n",
    "        print(\"Sorry \" + player_two + \", You're not looking like Batman\")\n",
    "question(\"What is Batman's real name\", \"Bruce Wayne\")\n",
    "question(\"What city does batman live in?\", \"Gotham\")\n",
    "question(\"Who is Batman\", \"Vance\")\n",
    "print(playerone_score)\n",
    "print(playertwo_score)\n",
    "if playerone_score > playertwo_score:\n",
    "    print(player_one + \"is BATMAN and \" + player_two +\" is Alfred....\")\n",
    "if playerone_score < playertwo_score:\n",
    "    print(player_two + \"is BATMAN and \" + player_one +\"is Alfred....\")\n",
    "else:\n",
    "    print(player_one + \" and \" + player_two + \" are BatMEN\")"
   ]
  },
  {
   "cell_type": "markdown",
   "metadata": {},
   "source": [
    "---\n",
    "comments: False\n",
    "layout: post\n",
    "title: BATMAN Quiz\n",
    "description: Do YOU really know Batman?\n",
    "type: tangibles\n",
    "courses: {'compsci': {'week': 2}}\n",
    "--"
   ]
  }
 ],
 "metadata": {
  "kernelspec": {
   "display_name": "Python 3",
   "language": "python",
   "name": "python3"
  },
  "language_info": {
   "codemirror_mode": {
    "name": "ipython",
    "version": 3
   },
   "file_extension": ".py",
   "mimetype": "text/x-python",
   "name": "python",
   "nbconvert_exporter": "python",
   "pygments_lexer": "ipython3",
   "version": "3.10.12"
  },
  "orig_nbformat": 4
 },
 "nbformat": 4,
 "nbformat_minor": 2
}
