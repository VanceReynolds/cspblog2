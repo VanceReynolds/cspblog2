{
 "cells": [
  {
   "cell_type": "markdown",
   "metadata": {},
   "source": [
    "---\n",
    "comments: true\n",
    "layout: post\n",
    "title: Data Structures Writeup\n",
    "description: Data Structures Writeup\n",
    "type: tangibles\n",
    "courses: { compsci: {week: 30} }\n",
    "---"
   ]
  },
  {
   "cell_type": "markdown",
   "metadata": {},
   "source": [
    "## What Is Clash Royale?\n",
    "Clash Royale is a popular RTS top down mobile game. The game has cards for each troop which can deployed onto the battlefield strategically to defeat the enemies castle like towers. There are currently around 120 cards in the game, each card has a rarity determining stats and ease to upgrade, and elixir cost to deploy the troop, along with its stats. Rarity can vary between, common, rare, epic, ledgendary, and champion, each one increasingly rare. Different types of chests can be won from battling, giving cards to the played onces opened. Collected cards are placed into decks of 8 which can be deployed in a battle. Our enitre project followed this theme, and we created features like a deck builder, a tornament tracker, a custom survay, and a deck information page.\n",
    "\n",
    "## My Feature\n",
    "My primary feature displays data collected at official clash royale tournaments in a user interactive format. The user can see the top decks in the current meta and sort through them based off of data such as popularity, name, and win percentage. This feature provides valuable insight into deck building, as a precursor for experienced and new players alike to Dante's and Ashwin's features. I had a second feature in the works for a while that was never finished, it worked in tandem with Gershawn's feature pulling data from the official clash royale database. The purpose was to retrieve clan and player information and displaying it for the user to search through, I spent many hours before and during break, attempting to get the data to pull and display but with much troubleshooting and attempts to reach out to my peers for assistance my second feature ultimately fell through. In addition to my feature, I put in extensive effort in to my groups team teach, and frontend design, I helped construct the frontend visuals and layout of the site.\n",
    "\n",
    "## Collections\n",
    "\n",
    "| Requirements | My Feature |\n",
    "|------------------|------------------|\n",
    "| From VSCode using SQLite3 Editor, show your unique collection/table in database, display rows and columns in the table of the SQLite database. | This database contains the data for each users collection of cards, which is my feature. Decks from this database are filled into the table. <img src=\"https://media.discordapp.net/attachments/1207760856704614511/1230261985451446312/database.png?ex=6632adc2&is=662038c2&hm=04a4387349549e5c9cca220cde6d9e3efad6d6039ee35b72ff1d8f4b529c4895&=&format=webp&quality=lossless&width=1046&height=176\" alt=\"Database\"/> |\n",
    "| From VSCode model, show your unique code that was created to initialize table and create test data. | This is the code initializing the table in my model file. <img src=\"https://media.discordapp.net/attachments/1207760856704614511/1230304849007218688/image.png?ex=6632d5ad&is=662060ad&hm=871b067ab206f4c09983ddf20d86f50a42aa4f5d1d04c527e7b9583df48c58e6&=&format=webp&quality=lossless&width=900&height=365\" alt=\"Initialize Table\"/> |\n",
    "\n",
    "## Lists and Dictionaries\n",
    "\n",
    "| Requirements | My Feature |\n",
    "|------------------|------------------|\n",
    "| In VSCode using Debugger, show a list as extracted from database as Python objects. |<img src=\"<img src=\"https://media.discordapp.net/attachments/1207760856704614511/1230580983716249600/dict_stuff.PNG?ex=6633d6d9&is=662161d9&hm=65779f6ee186b8675078314efe3ca50e9ee2c090af2879cbe736c58371c1e42a&=&format=webp&quality=lossless&width=576&height=313\" alt=\"Term\"/>\" \n",
    "| In VSCode use Debugger and list, show two distinct example examples of dictionaries, show Keys/Values using debugger. |<img src=\"https://media.discordapp.net/attachments/1207760856704614511/1230582301503651870/database.png?ex=6633d813&is=66216313&hm=1f7f6714b99e18254c44d97f7eccab5df6ea485cc83fcbffef8f578af116652a&=&format=webp&quality=lossless&width=575&height=437\" alt=\"List\"/>  |\n",
    "\n",
    "## APIs and JSON\n",
    "\n",
    "| Requirements | My Feature |\n",
    "|------------------|------------------|\n",
    "| In VSCode, show Python API code definition for request and response using GET, POST, UPDATE methods. Discuss algorithmic condition used to direct request to appropriate Python method based on request method. | This is my API endpoint code that uses a GET method to obtain the data from my backend. The class defines another resource for retrieving a user's collection of Clash Royale cards from the database. It also includes tje Class that is called when a user opens a legendary chest. It creates 4 cards with raritys epic or higher. <img src=\"https://Ashwinv93.github.io/CompSci/images/GET.png\" alt=\"Description of Image\"/> |\n",
    "| In VSCode, show algorithmic conditions used to validate data on a POST condition. | This is my API endpoint code for my machine learning project. It recives the team IDs imputed by the user in the frontend, and validates it by checking if the value is null or is the value is not an integer. If that is the case it returns a bad request error. If the team IDs are valid, it imputs them into the prediction model to get the win rate. <img src=\"https://media.discordapp.net/attachments/1207760856704614511/1230586572164956311/singleton.PNG?ex=6633dc0d&is=6621670d&hm=a500853c38c16ae68e81271d6d73136b6770587ef753725730100e82f10d5c5f&=&format=webp&quality=lossless&width=743&height=571\" alt=\"Description of Image\"/> |\n",
    "| In Postman, show URL request and Body requirements for GET, POST, and UPDATE methods and show the JSON response data for 200 success conditions on GET, POST, and UPDATE methods. | <img src=\"https://media.discordapp.net/attachments/1207760856704614511/1230586028251676682/Post.PNG?ex=6633db8c&is=6621668c&hm=39606047639a44cce78bd167389931fc66d005654ffc60b8b7984bfb98a8a2bb&=&format=webp&quality=lossless&width=767&height=571\" alt=\"Description of Image\"/> |\n",
    "| In Postman, show the JSON response for error for 400 when missing body on a POST request. | <img src=\"https://media.discordapp.net/attachments/1207760856704614511/1230586028558127236/400empty.PNG?ex=6633db8c&is=6621668c&hm=3eca1546bda2a831233f444d202d01b3cbbb6d6c307f97e4b8781bafd85c4718&=&format=webp&quality=lossless&width=882&height=571\" alt=\"Description of Image\"/> |\n",
    "| In Postman, show the JSON response for error for 404 when providing an unknown user ID to a UPDATE request. | <img src=\"https://media.discordapp.net/attachments/1207760856704614511/1230586028822233178/404nouser.PNG?ex=6633db8c&is=6621668c&hm=103546e95acb2785b3e64c32131a537fb259d2652a4a1f6f6e91cedfa5441213&=&format=webp&quality=lossless&width=841&height=571\" alt=\"Description of Image\"/> |\n",
    "\n",
    "## Frontend\n",
    "\n",
    "| Requirements | My Feature |\n",
    "|------------------|------------------|\n",
    "| In Chrome inspect, show response of JSON objects from fetch of GET, POST, and UPDATE methods. | <img src=\"https://Ashwinv93.github.io/CompSci/images/response.png\" alt=\"Description of Image\"/> |\n",
    "| In the Chrome browser, show a demo (GET) of obtaining an Array of JSON objects that are formatted into the browsers screen. | I will demo opening a chest. The card data is formated into containers and displayed in a card format with the image displayed. |\n",
    "| In JavaScript code, describe fetch and method that obtained the Array of JSON objects. | This fetches the variable API endpoint, that will change depending on what chest you click on. <img src=\"https://Ashwinv93.github.io/CompSci/images/fetch.png\" alt=\"Description of Image\"/> If the Gold chest is clicked on, it goes to the common chest API, and if the Legendary chest is clicked it fetches its respective API. Here is that code <img src=\"https://Ashwinv93.github.io/CompSci/images/2chest.png\" alt=\"Description of Image\"/> |\n",
    "| In JavaScript code, show code that performs iteration and formatting of data into HTML. | This iterates through the card data from the backend, and creates the container in HTML so it can be displayed with the card image icons. <img src=\"https://Ashwinv93.github.io/CompSci/images/format.png\" alt=\"Description of Image\"/> |\n",
    "| In the Chrome browser, show a demo (POST or UPDATE) gathering and sending input and receiving a response that show update. Repeat this demo showing both success and failure. | I will open a chest with the endpoint code functioning, and open a chest with the backend turned off to demonstrate a failure. |\n",
    "| In JavaScript code, show and describe code that handles success. Describe how code shows success to the user in the Chrome Browser screen. | This code runs the cards from the fetch data into a display fards function that appends the cards to their containers, created in the styling. <img src=\"https://Ashwinv93.github.io/CompSci/images/succsess.png\" alt=\"Description of Image\"/> |\n",
    "| In JavaScript code, show and describe code that handles failure. Describe how the code shows failure to the user in the Chrome Browser screen. | This checks the data fetched from the backend. If the data array of cards is empty it returns an error message with the data recived into the console. This is very helpful while debugging to see what data is being sent from the backend easily. In the browser screen it displays a simple error for the user.  <img src=\"https://Ashwinv93.github.io/CompSci/images/fail.png\" alt=\"Description of Image\"/> |\n",
    "\n",
    "## Extras\n",
    "\n",
    "- Show algorithms and preparation of data for analysis. This includes cleaning, encoding, and one-hot encoding.\n",
    "<img src=\"https://Ashwinv93.github.io/CompSci/images/clean.png\" alt=\"Description of Image\"/> \n",
    "\n",
    "- Show algorithms and preparation for predictions.\n",
    "<img src=\"https://Ashwinv93.github.io/CompSci/images/predict.png\" alt=\"Description of Image\"/>\n",
    "\n",
    "- Discuss concepts and understanding of Linear Regression algorithms.\n",
    "\n",
    "Linear Regression is a fundamental statistical method used to analyze and understand the relationship between a dependent variable (such as house prices) and one or more independent variables (like size or number of bedrooms). This method assumes that this relationship can be approximated by a straight line. Imagine plotting data points on a graph where the vertical axis represents the dependent variable and the horizontal axis represents the independent variable(s). Linear Regression aims to find the best-fitting line through these points by adjusting the slope and intercept of the line to minimize the difference between predicted values and actual data points. This technique is widely used in various fields such as economics, finance, and engineering to make predictions or infer relationships between variables.\n",
    "\n",
    "- Discuss concepts and understanding of Decision Tree analysis algorithms.\n",
    "\n",
    "Decision Trees are a type of model used in machine learning and data mining for making decisions based on input features. They resemble flowchart-like structures where each internal node represents a question or a test on a specific feature, each branch represents the possible answer or outcome of the test, and each leaf node represents a final decision or classification. Decision Trees are used for both classification and regression tasks and are particularly useful for understanding the underlying patterns in data. They can handle both numerical and categorical data and are capable of capturing complex relationships between variables, making them versatile for various applications such as customer segmentation, fraud detection, and medical diagnosis."
   ]
  }
 ],
 "metadata": {
  "language_info": {
   "name": "python"
  }
 },
 "nbformat": 4,
 "nbformat_minor": 2
}
