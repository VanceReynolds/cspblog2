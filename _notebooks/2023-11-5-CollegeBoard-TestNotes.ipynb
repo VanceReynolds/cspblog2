{
 "cells": [
  {
   "cell_type": "markdown",
   "metadata": {},
   "source": [
    "---\n",
    "comments: false\n",
    "layout: post\n",
    "title: CollegeBoard Practice MC Reflection\n",
    "type: tangibles\n",
    "courses: { compsci: {week: 10} }\n",
    "description: Reflection\n",
    "---"
   ]
  },
  {
   "cell_type": "markdown",
   "metadata": {},
   "source": [
    "# College Board Final Test Reflection\n",
    "The test was difficult, but not impossible. Because I was given ample time to complete the assessment and was granted access to the internet and notes, I managed to achieve a good score. However, the task was arduous and time-consuming. I was surprised by the absence of code-related questions; most problems were indicative of problem-solving and recalling key terminology taught in the course."
   ]
  },
  {
   "cell_type": "markdown",
   "metadata": {},
   "source": [
    "# Important Topics\n",
    "(A list of some important terms and topics that came up during the test)\n",
    "\n",
    "## Citizen science\n",
    "Citizen science is when the public voluntarily helps conduct scientific research. Citizen scientists may design experiments, collect data, analyze results, and solve problems. In national parks, most citizen scientists collect data with tools provided by project directors.\n",
    "\n",
    "## The Internet Engineering Task Force \n",
    "The Internet Engineering Task Force is a standards organization for the Internet and is responsible for the technical standards that make up the Internet protocol suite. It has no formal membership roster or requirements and all its participants are volunteers.\n",
    "\n",
    "## Digital Divide\n",
    "The digital divide is the unequal access to digital technology, including smartphones, tablets, laptops, and the internet. The digital divide creates a division and inequality around access to information and resources.\n",
    "\n",
    "## Reasonable Time Algorithm\n",
    "Unreasonable time: Algorithms with exponential or factorial efficiencies are examples of algorithms that run in an unreasonable amount of time. Reasonable time: Algorithms with a polynomial efficiency or lower (constant, linear, square, cube, etc.) are said to run in a reasonable amount of time.\n",
    "\n",
    "## Symmetric Encryption\n",
    "Symmetric encryption is a type of encryption where only one key (a secret key) is used to both encrypt and decrypt electronic data. The entities communicating via symmetric encryption must exchange the key so that it can be used in the decryption process."
   ]
  },
  {
   "cell_type": "markdown",
   "metadata": {},
   "source": [
    "# Reviewing Missed Topics\n",
    "\n",
    "## Polynomial\n",
    "A polynomial is defined as an expression which is composed of variables, constants and exponents, that are combined using mathematical operations such as addition, subtraction, multiplication and division (No division operation by a variable).\n",
    "\n",
    "## Abstraction\n",
    "In software engineering and computer science, abstraction is the process of generalizing concrete details, such as attributes, away from the study of objects and systems to focus attention on details of greater importance.\n",
    "\n",
    "[Abstraction Lesson](https://apclassroom.collegeboard.org/103/home?apd=ot676bj0ey&unit=3)"
   ]
  },
  {
   "cell_type": "markdown",
   "metadata": {},
   "source": [
    "# \"Or\" and \"And\" Statements\n"
   ]
  },
  {
   "cell_type": "markdown",
   "metadata": {},
   "source": [
    "True and False:\n",
    "\n",
    "TRUE AND TRUE = TRUE\n",
    "TRUE AND FALSE = FALSE\n",
    "FALSE AND FALSE = FALSE"
   ]
  },
  {
   "cell_type": "markdown",
   "metadata": {},
   "source": [
    "True or False:\n",
    "\n",
    "TRUE OR TRUE = TRUE\n",
    "TRUE OR FALSE = TRUE\n",
    "FALSE OR TRUE = TRUE\n",
    "FALSE OR FALSE = FALSE\n",
    "\n",
    "Special Cases:\n",
    "\n",
    "TRUE OR FALSE OR FALSE OR FALSE OR FALSE = TRUE"
   ]
  },
  {
   "cell_type": "markdown",
   "metadata": {},
   "source": [
    "Numeric and:\n",
    "\n",
    "1 AND 1 = 1\n",
    "1 AND 0 = 0\n",
    "0 AND 0 = 0"
   ]
  },
  {
   "cell_type": "markdown",
   "metadata": {},
   "source": [
    "Numeric or:\n",
    "\n",
    "1 OR 0 = 1\n",
    "0 OR 1 = 1\n",
    "1 OR 1 = 1\n",
    "0 OR 0 = 0\n",
    "\n",
    "Special Case:\n",
    "\n",
    "1 OR 0 OR 0 = 1"
   ]
  },
  {
   "cell_type": "markdown",
   "metadata": {},
   "source": [
    "# Psuedocode\n",
    "Pseudocode is a notation resembling a simplified programming language, used in program design.\n",
    "\n",
    "Psuedocode was present in nearly the entire final, I was required to read it and understand it to answer a large percentage of the questions on the test. I used the CollegeBoard notes on Psuedocode to prepare me, here are some of the major points:\n",
    "\n",
    "\n",
    "Pseudocode: Pseudocode is a way to represent an algorithm using a mix of natural language and simplified programming constructs. It’s used to describe the logic of a program without writing full code.\n",
    "Variables: Variables can be declared using simple names, and their values can be assigned and manipulated within pseudocode.\n",
    "Loops: Pseudocode allows the description of loops and repetitions, such as “REPEAT UNTIL” and “REPEAT (n) TIMES,” to control program flow.\n",
    "\n",
    "[CollegeBoard information on Psuedocode](https://d1qmdf3vop2l07.cloudfront.net/new-violin.cloudvent.net/compressed/b1d2367f596074cb9a7761a1be59f6e7.pdf)"
   ]
  },
  {
   "cell_type": "code",
   "execution_count": null,
   "metadata": {},
   "outputs": [],
   "source": [
    "#REPEAT + IF\n",
    "REPEAT n TIMES\n",
    "    IF condition THEN\n",
    "        // Code block\n",
    "    END IF\n",
    "END REPEAT"
   ]
  },
  {
   "cell_type": "code",
   "execution_count": null,
   "metadata": {},
   "outputs": [],
   "source": [
    "#FUNCTION\n",
    "FUNCTION calculateSum(a, b)\n",
    "    // Code code code\n",
    "END FUNCTION"
   ]
  },
  {
   "cell_type": "code",
   "execution_count": null,
   "metadata": {},
   "outputs": [],
   "source": [
    "#LIST\n",
    "DECLARE list[]\n",
    "ADD item TO list\n",
    "FOR EACH item IN list\n",
    "    // Code code code\n",
    "END FOR"
   ]
  }
 ],
 "metadata": {
  "language_info": {
   "name": "python"
  }
 },
 "nbformat": 4,
 "nbformat_minor": 2
}
