{
 "cells": [
  {
   "cell_type": "markdown",
   "metadata": {},
   "source": [
    "---\n",
    "toc: true\n",
    "comments: true\n",
    "layout: post\n",
    "title: Ideation Drag and Drop\n",
    "description: CPT Prject\n",
    "type: plans\n",
    "courses: { compsci: {week: 19} }\n",
    "---"
   ]
  },
  {
   "cell_type": "markdown",
   "metadata": {},
   "source": [
    "<html lang=\"en\">\n",
    "<head>\n",
    "    <meta charset=\"UTF-8\">\n",
    "    <meta name=\"viewport\" content=\"width=device-width, initial-scale=1.0\">\n",
    "    <style>\n",
    "        #box1, #box2 {\n",
    "            width: 200px;\n",
    "            height: 200px;\n",
    "            border: 1px solid #000;\n",
    "            margin: 10px;\n",
    "            display: inline-block;\n",
    "        }\n",
    "\n",
    "        #box1 {\n",
    "            background-color: #f0f0f0;\n",
    "        }\n",
    "\n",
    "        #box2 {\n",
    "            background-color: #e0e0e0;\n",
    "        }\n",
    "\n",
    "        img {\n",
    "            width: 100%;\n",
    "            height: 100%;\n",
    "        }\n",
    "    </style>\n",
    "</head>\n",
    "<body>\n",
    "\n",
    "<div id=\"box1\" ondrop=\"drop(event)\" ondragover=\"allowDrop(event)\">\n",
    "    <img id=\"drag1\" src=\"data:image/jpeg;base64,/9j/4AAQSkZJRgABAQAAAQABAAD/2wCEAAkGBxASEhISEhIQEBAXFhUVFhUQFRYVEBcPFhYXFhUXFRUYHSggGBolGxUVITEhJSkrLi4uFx8zODMtNygtLisBCgoKDg0OGxAQGi0lICYvMC0tLS0tLS0tLS0tLy0tLS0tLS0tLS0tKy0tLS0tLS0tLS0tLS0tLS0tLS0tLS0tLf/AABEIAPUAzgMBIgACEQEDEQH/xAAcAAABBAMBAAAAAAAAAAAAAAAHAAQFBgECAwj/xABIEAABAgMCBwsLAQgCAgMAAAABAAIDBBEFIQYSMUFRYXEWMjRSc4GRobHB0RMUFSIzQmJykpOyBxcjU1SCwuHwJKJD8URjg//EABoBAAIDAQEAAAAAAAAAAAAAAAQFAAIDAQb/xAA6EQABAgMDBgwGAwEBAQAAAAABAAIDBBESIVEFEzFB0fAVIjM0UmFygZKhscEycZGiwuEUI0LxJEP/2gAMAwEAAhEDEQA/ADgSmk1PNYLyErQmQxpKFWGGFNC4Y2I0Vqa11ZkbJybph2AGk4IyUlDHPUrvOYVwmHfDrTE4aw+MOgoLvwha4kkmmurnHpyLQWi517GR3DS2E4j8UY45Oh3Vc7rAFPOlfnoRDnSEO4WndYAp50qjVu1h8YdBS3aw+MOgoKGbi/w5r7bvBLzuJ/Dmvtu8FXOyHRd9u1Vz0l0HeW1GvdrD4w6Clu2h8YdBQU89i8Sa+27wW3nsX+HNfad4KZ2Q6Dvt2qZ6S6DvLajTu1h8YdBS3aw+MOgoKeexeJNfbd4JeexeJNfbd4KZ2Q6Lvt2qZ6S6DvLajXu1h8YdBS3aw+MOgoKeeReJNfbd4JeexeJNfbd4KZ2Q6Lvt2qZ6S6DvLajXu2h8YdBS3aw+MOgoKeeReJNfad4JeeReJNfbd4KZ2Q6Lvt2qZ6S6DvLajXu1h8YdBS3aw+MOgoKeexeJNfbd4JeeReJNfbd4KZ2Q6Lvt2qZ6S6DvLajXu2h8YdBS3bQ+MOgoK+dxf4c19t3gseeReJNfbd4KZ2Q6Dvt2qZ6S6DvLajjCw0hn3h1qZkLfhxMjgvNzLeeDe3HFcho1w5\n"
   ]
  }
 ],
 "metadata": {
  "language_info": {
   "name": "python"
  }
 },
 "nbformat": 4,
 "nbformat_minor": 2
}
