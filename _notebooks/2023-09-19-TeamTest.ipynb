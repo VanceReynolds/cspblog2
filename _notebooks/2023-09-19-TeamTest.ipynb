{
 "cells": [
  {
   "cell_type": "markdown",
   "metadata": {},
   "source": [
    "---\n",
    "toc: true\n",
    "comments: true\n",
    "layout: post\n",
    "title: Team Test\n",
    "description: Four main tasks of the team test.\n",
    "type: hacks\n",
    "courses: { compsci: {week: 5} }\n",
    "---"
   ]
  },
  {
   "cell_type": "markdown",
   "metadata": {},
   "source": [
    "## Collaboration Review\n",
    "\n",
    "Diverse Perspectives: Teams are extremely valuable and effective. A team brings together individuals with different backgrounds, experiences, and viewpoints and gives them a common goal. This diversity can lead to more creative and innovative solutions, as each person provides a part of their own perspective into the final output. For instance, in our CSP class, we have students with various levels of prior python, java, and markdown experience. This knowledge can be disributed amongst group members allowing for a greater understanding of the topics. \n",
    "\n",
    "Facilitating communication: Effective communication amongst team members is vital to success. The purpose of a team is collaboration and without proper communcation this benefit is lost. We plan to hold regular meetings during class time or virtually where we discuss progress, challenges, and goals. The group will utilize communication tools to quickly update eachother on progress. We will also have clear roles and responsibilities for each team member, including a scrum master. Each member will be expected to contribute to the group and help maintain a balance of distributed work.\n",
    "\n",
    "Holding Team Members Accountable: To maintain accountability within our team, we will set clear deadlines for tasks and milestones. We utilize the peer review process and when a project is finished we will present the work to the group as a whole. This will ensure high quality work at a consistant pac."
   ]
  }
 ],
 "metadata": {
  "language_info": {
   "name": "python"
  },
  "orig_nbformat": 4
 },
 "nbformat": 4,
 "nbformat_minor": 2
}
