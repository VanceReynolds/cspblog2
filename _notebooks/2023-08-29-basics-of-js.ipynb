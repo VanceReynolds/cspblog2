{
 "cells": [
  {
   "cell_type": "markdown",
   "metadata": {},
   "source": [
    "---\n",
    "title: Basics of Javascript\n",
    "hide: True\n",
    "description: A Tech Talk on how to use javascript\n",
    "type: ccc\n",
    "permalink: /basics/javascript\n",
    "author: Rohan Juneja\n",
    "---"
   ]
  },
  {
   "cell_type": "raw",
   "metadata": {},
   "source": [
    "{% include nav_basics.html %}\n"
   ]
  },
  {
   "cell_type": "markdown",
   "metadata": {},
   "source": [
    "# HACK COMPLETE"
   ]
  },
  {
   "cell_type": "code",
   "execution_count": 1,
   "metadata": {
    "vscode": {
     "languageId": "javascript"
    }
   },
   "outputs": [
    {
     "data": {
      "application/javascript": "\n%%js\nlet a = parseFloat(prompt(\"Enter the value for a:\"));\nlet b = parseFloat(prompt(\"Enter the value for b:\"));\n\nif (!isNaN(a) && !isNaN(b)) {\n  if (a > b) {\n    console.log(\"a is greater\");\n  } else if (b > a) {\n    console.log(\"b is greater\");\n  } else {\n    console.log(\"both are equal\");\n  }\n} else {\n  console.log(\"Please enter valid numeric values for a and b.\");\n}\n",
      "text/plain": [
       "<IPython.core.display.Javascript object>"
      ]
     },
     "metadata": {},
     "output_type": "display_data"
    }
   ],
   "source": [
    "%%js\n",
    "\n",
    "%%js\n",
    "let a = parseFloat(prompt(\"Enter the value for a:\"));\n",
    "let b = parseFloat(prompt(\"Enter the value for b:\"));\n",
    "\n",
    "if (!isNaN(a) && !isNaN(b)) {\n",
    "  if (a > b) {\n",
    "    console.log(\"a is greater\");\n",
    "  } else if (b > a) {\n",
    "    console.log(\"b is greater\");\n",
    "  } else {\n",
    "    console.log(\"both are equal\");\n",
    "  }\n",
    "} else {\n",
    "  console.log(\"Please enter valid numeric values for a and b.\");\n",
    "}"
   ]
  }
 ],
 "metadata": {
  "kernelspec": {
   "display_name": "Python 3",
   "language": "python",
   "name": "python3"
  },
  "language_info": {
   "codemirror_mode": {
    "name": "ipython",
    "version": 3
   },
   "file_extension": ".py",
   "mimetype": "text/x-python",
   "name": "python",
   "nbconvert_exporter": "python",
   "pygments_lexer": "ipython3",
   "version": "3.10.12"
  },
  "orig_nbformat": 4
 },
 "nbformat": 4,
 "nbformat_minor": 2
}
