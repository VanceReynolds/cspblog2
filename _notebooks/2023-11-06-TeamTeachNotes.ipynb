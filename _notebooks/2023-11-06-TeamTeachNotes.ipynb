{
 "cells": [
  {
   "cell_type": "markdown",
   "metadata": {},
   "source": [
    "---\n",
    "toc: true\n",
    "comments: true\n",
    "layout: post\n",
    "title: Team Teach Notes\n",
    "description: Team Teach Notes\n",
    "type: hacks\n",
    "courses: { compsci: {week: 10} }\n",
    "---"
   ]
  },
  {
   "cell_type": "markdown",
   "metadata": {},
   "source": [
    "# Data Abstraction\n",
    "\n",
    "Variables are a form of abstraction because they associate multiple values with one another. Essentially, they serve to provide descriptions or meanings to various values. Variables hold significance due to their versatility, as they can be employed in various ways, notably for storing valuable information, which is particularly valuable in lengthy lines of code. Their primary purpose is to store and manage data, encompassing types such as integers, booleans, lists, strings, and dictionaries.\n",
    "\n",
    "\n",
    "\n",
    "\n"
   ]
  },
  {
   "cell_type": "code",
   "execution_count": 2,
   "metadata": {},
   "outputs": [
    {
     "name": "stdout",
     "output_type": "stream",
     "text": [
      "[\"Vance\", \"Ronit\", \"Jared\", \"Ashwin\"]\n"
     ]
    }
   ],
   "source": [
    "# Converting Sring to and from JSON\n",
    "\n",
    "import json \n",
    "list = [\"Vance\", \"Ronit\", \"Jared\", \"Ashwin\"] \n",
    "json_obj = json.dumps(list) \n",
    "print(json_obj)"
   ]
  }
 ],
 "metadata": {
  "kernelspec": {
   "display_name": "Python 3",
   "language": "python",
   "name": "python3"
  },
  "language_info": {
   "codemirror_mode": {
    "name": "ipython",
    "version": 3
   },
   "file_extension": ".py",
   "mimetype": "text/x-python",
   "name": "python",
   "nbconvert_exporter": "python",
   "pygments_lexer": "ipython3",
   "version": "3.10.12"
  }
 },
 "nbformat": 4,
 "nbformat_minor": 2
}
