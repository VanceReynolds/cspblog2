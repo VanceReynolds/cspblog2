{
 "cells": [
  {
   "cell_type": "markdown",
   "metadata": {},
   "source": [
    "---\n",
    "toc: true\n",
    "comments: true\n",
    "layout: post\n",
    "title: Team Teach Notes\n",
    "description: Team Teach Notes\n",
    "type: hacks\n",
    "courses: { compsci: {week: 10} }\n",
    "---"
   ]
  },
  {
   "cell_type": "markdown",
   "metadata": {},
   "source": [
    "# Data Abstraction\n",
    "\n",
    "Data Abstraction: Data abstraction is a fundamental concept in computer science and programming, often closely related to variables. Data abstraction involves simplifying complex systems by breaking them down into manageable parts and focusing on the essential characteristics while hiding the unnecessary details. Variables are an example of data abstraction because they allow us to assign a name or symbol to a value, essentially providing a meaningful label or description for that value.\n",
    "\n",
    "Variables are essential in programming as they serve various purposes, especially when dealing with extensive lines of code. They provide a way to store and manage data, which can include various data types such as integers, booleans, lists, strings, and dictionaries. This abstraction simplifies the manipulation and utilization of data within a program, making it more organized and understandable. By associating values with variable names, programmers can work with data in a more intuitive and structured manner, leading to more efficient and maintainable code."
   ]
  },
  {
   "cell_type": "code",
   "execution_count": 2,
   "metadata": {},
   "outputs": [
    {
     "name": "stdout",
     "output_type": "stream",
     "text": [
      "[\"Vance\", \"Ronit\", \"Jared\", \"Ashwin\"]\n"
     ]
    }
   ],
   "source": [
    "# Converting Sring to and from JSON\n",
    "\n",
    "import json \n",
    "list = [\"Vance\", \"Ronit\", \"Jared\", \"Ashwin\"] \n",
    "json_obj = json.dumps(list) \n",
    "print(json_obj)"
   ]
  },
  {
   "cell_type": "code",
   "execution_count": 24,
   "metadata": {},
   "outputs": [],
   "source": [
    "# Classes and self\n",
    "\n",
    "def __init__(self, name, age):\n",
    "    self.name = name\n",
    "    self.age = age\n",
    "\n",
    "def myfunc(self):\n",
    "    print(\"Hello my name is \" + self.name)# Classes and self\n",
    "\n",
    "def __init__(self, name, age):\n",
    "    self.name = name\n",
    "    self.age = age\n",
    "\n",
    "def myfunc(self):\n",
    "    print(\"Hello my name is \" + self.name)"
   ]
  },
  {
   "cell_type": "markdown",
   "metadata": {},
   "source": [
    "# Algorithms\n",
    "\n",
    "Algorithm: A finite set of instructions designed to achieve a particular task. Can be visualized as a sequence of steps that must be executed in a specific order. Iteration, or repetition, involves actions such as evaluating a condition, making decisions (yes or no), and performing certain steps if the condition is true. Algorithms can be represented through various means, including flowcharts that use arrows to denote decision points.\n",
    "\n",
    "Basic mathematical operations include addition (a + b), subtraction (a - b), multiplication (a * b), division (a / b), and finding the modulus, which is the remainder when a is divided by b (a MOD b). In Python, the modulus operation is denoted by the '%' symbol. When it comes to mathematical order of operations, remember that MOD is treated at the same level as multiplication and division in the PEMDAS (Parentheses, Exponents, Multiplication and Division, Addition and Subtraction) hierarchy.\n"
   ]
  },
  {
   "cell_type": "code",
   "execution_count": 6,
   "metadata": {},
   "outputs": [
    {
     "name": "stdout",
     "output_type": "stream",
     "text": [
      "14.0\n"
     ]
    }
   ],
   "source": [
    "# Math \n",
    "num1 = 10\n",
    "num2 = num1 / 2\n",
    "num3 = 5 * num2 - 5\n",
    "result = num2 % 3 * num1 + 4 - num3 / 2\n",
    "print (result)"
   ]
  },
  {
   "cell_type": "code",
   "execution_count": 8,
   "metadata": {},
   "outputs": [
    {
     "name": "stdout",
     "output_type": "stream",
     "text": [
      "True\n",
      "False\n"
     ]
    }
   ],
   "source": [
    "# Example Algorithim for Palindromes\n",
    "def palindrome(input_str):\n",
    "    # Remove spaces and convert the string to lowercase\n",
    "    clean_str = input_str.replace(\" \", \"\").lower()\n",
    "    # Check if the cleaned string is equal to its reverse\n",
    "    return clean_str == clean_str[::-1]\n",
    "\n",
    "\n",
    "print(palindrome(\"racecar\")) # True\n",
    "print(palindrome(\"happy\")) # False"
   ]
  },
  {
   "cell_type": "markdown",
   "metadata": {},
   "source": [
    "# Boolean If\n",
    "\n",
    "Boolean: A data type that can take on one of two values: \"true\" or \"false.\" Boolean values are often used to represent the result of a comparison or a condition in computer programming.\n",
    "\n",
    "If-Statements, AKA conditionals, are control structures in programming that execute a specific portion of code when a given expression or condition is satisfied. They are used to compare variables or evaluate conditions, and based on the result, they decide whether to run a particular block of code. The result of the evaluation is typically a Boolean value, which is either \"true\" or \"false,\" indicating whether the condition is met. If the condition is \"true,\" the code within the if-statement's block is executed; otherwise, it is skipped.\n"
   ]
  },
  {
   "cell_type": "code",
   "execution_count": 9,
   "metadata": {},
   "outputs": [
    {
     "name": "stdout",
     "output_type": "stream",
     "text": [
      "True\n",
      "False\n",
      "<class 'int'>\n"
     ]
    }
   ],
   "source": [
    "# Example Boolean\n",
    "boolean = True\n",
    "print(boolean)  # Output: True\n",
    "\n",
    "boolean = False\n",
    "print(boolean)  # Output: False\n",
    "\n",
    "boolean = 1\n",
    "# boolean is no longer a boolean; it is now an integer\n",
    "print(type(boolean))  # Output: <class 'int'>"
   ]
  },
  {
   "cell_type": "code",
   "execution_count": 10,
   "metadata": {},
   "outputs": [
    {
     "name": "stdout",
     "output_type": "stream",
     "text": [
      "You are not an adult yet.\n"
     ]
    }
   ],
   "source": [
    "# Prompt the user for their age\n",
    "user_age = int(input(\"Please enter your age: \"))\n",
    "\n",
    "# Define a Boolean variable to check if the user is an adult\n",
    "is_adult = user_age >= 18\n",
    "\n",
    "# Check the condition and provide a response\n",
    "if is_adult:\n",
    "    print(\"You are an adult.\")\n",
    "else:\n",
    "    print(\"You are not an adult yet.\")"
   ]
  },
  {
   "cell_type": "markdown",
   "metadata": {},
   "source": [
    "# Iteration\n",
    "\n",
    "Iteration is a critical concept in programming, involving the repetition of a set of instructions. It is a fundamental and powerful technique used for automating tasks, processing data, and implementing algorithms efficiently. There are two primary types of loops commonly used in programming:\n",
    "\n",
    "For Loops:\n",
    "For loops are used to iterate over a sequence, which can be a list, tuple, string, range, or any other iterable object.\n",
    "They execute a block of code for each item in the sequence, providing a structured way to process elements one by one.\n",
    "For example, you can use a for loop to go through all the elements in a list and perform a specific action on each element.\n",
    "\n",
    "While Loops:\n",
    "While loops are used to execute a block of code as long as a certain condition is true.\n",
    "They are particularly useful when you don't know in advance how many times the code should be executed, and you rely on a condition to control the loop.\n",
    "Be careful with while loops to avoid potential infinite loops by ensuring that the condition eventually becomes false."
   ]
  },
  {
   "cell_type": "code",
   "execution_count": 11,
   "metadata": {},
   "outputs": [
    {
     "name": "stdout",
     "output_type": "stream",
     "text": [
      "1\n",
      "2\n",
      "3\n",
      "4\n",
      "5\n"
     ]
    }
   ],
   "source": [
    "#simple for loop\n",
    "numbers = [1, 2, 3, 4, 5]\n",
    "\n",
    "for number in numbers:\n",
    "    print(number)"
   ]
  },
  {
   "cell_type": "code",
   "execution_count": 13,
   "metadata": {},
   "outputs": [
    {
     "name": "stdout",
     "output_type": "stream",
     "text": [
      "1\n",
      "2\n",
      "3\n",
      "4\n",
      "5\n"
     ]
    }
   ],
   "source": [
    "# simple while loop\n",
    "counter = 1\n",
    "\n",
    "# Define the condition for the while loop\n",
    "while counter <= 5:\n",
    "    print(counter)\n",
    "    counter += 1  # Increment the counter by 1 in each iteration"
   ]
  },
  {
   "cell_type": "code",
   "execution_count": 12,
   "metadata": {},
   "outputs": [
    {
     "name": "stdout",
     "output_type": "stream",
     "text": [
      "List of names:\n",
      "Vance\n",
      "Ronit\n",
      "Jared\n",
      "Ashwin\n"
     ]
    }
   ],
   "source": [
    "# Looping in lists\n",
    "names = []\n",
    "\n",
    "# Prompt the user to enter names and add them to the list\n",
    "num_names = int(input(\"How many names would you like to enter? \"))\n",
    "\n",
    "for i in range(num_names):\n",
    "    name = input(f\"Enter name {i + 1}: \")\n",
    "    names.append(name)\n",
    "\n",
    "# Loop through the list of names and display them\n",
    "print(\"List of names:\")\n",
    "for name in names:\n",
    "    print(name)"
   ]
  },
  {
   "cell_type": "markdown",
   "metadata": {},
   "source": [
    "# Developing Algorithms\n",
    "\n",
    "Algorithm: A set of clear, step-by-step instructions for solving a specific problem. It can be applied to similar problems and is used in various areas of life. Think of it like a routine that guides actions. In computer science, algorithms are crucial for automating tasks and allowing computers to solve problems independently, reducing the need for human intervention. They provide structure and efficiency in problem-solving across a wide range of applications."
   ]
  },
  {
   "cell_type": "code",
   "execution_count": 16,
   "metadata": {},
   "outputs": [
    {
     "name": "stdout",
     "output_type": "stream",
     "text": [
      "Your tax amount is: $5000.00\n"
     ]
    }
   ],
   "source": [
    "# Simple tax algorithm\n",
    "tax_rate = 0.05  # 5% tax rate\n",
    "\n",
    "# Get the user's income as input\n",
    "income = float(input(\"Enter your annual income: \"))\n",
    "\n",
    "# Calculate the tax amount\n",
    "tax_amount = income * tax_rate\n",
    "\n",
    "# Display the tax amount\n",
    "print(f\"Your tax amount is: ${tax_amount:.2f}\")"
   ]
  },
  {
   "cell_type": "markdown",
   "metadata": {},
   "source": [
    "# Lists and Searches\n",
    "\n",
    "Lists and Searches: A Python list is a versatile data structure that serves as an ordered and mutable collection of data objects. Unlike arrays in some other programming languages, Python lists can hold a mixture of data types, making them very flexible for storing and manipulating various kinds of information.\n",
    "\n",
    "Note: Python uses a 0-based index for list elements, the first element is accessed with an index of 0, the second element with an index of 1, and so on."
   ]
  },
  {
   "cell_type": "markdown",
   "metadata": {},
   "source": [
    "How to Create a list:\n",
    "\n",
    "If we want to create a list called \"exampleList\": type exampleList = [].\n",
    "\n",
    "Lists with elements would look like this: exampleList = [element1,element2,element3]"
   ]
  },
  {
   "cell_type": "code",
   "execution_count": 19,
   "metadata": {},
   "outputs": [
    {
     "name": "stdout",
     "output_type": "stream",
     "text": [
      "Items You Want: ['cheese', 'ham', 'chips', 'milk']\n"
     ]
    }
   ],
   "source": [
    "#Example List and appendin\n",
    "shoppingList = []\n",
    "\n",
    "while True:\n",
    "    user_input = input(\"Enter an item for your shopping list (or 'q' to quit): \")  \n",
    "    if user_input.lower() == 'q':\n",
    "        break\n",
    "    shoppingList.append(user_input)\n",
    "print(\"Items You Want:\", shoppingList)"
   ]
  },
  {
   "cell_type": "markdown",
   "metadata": {},
   "source": [
    "# Developing Procedures\n",
    "\n",
    "Procedure: AKA methods or functions are different programming languages, named blocks of code that can accept parameters (input values) and return results. These procedures execute a set of statements on the provided parameters and yield a return value.\n",
    "\n",
    "Parameters represent the input values that a procedure requires, and when the procedure is called, specific values, known as arguments, are passed as parameters.\n",
    "\n",
    "Here's a pseudo-code example of a long procedure involving applying a discount and then a tax to an item's cost:"
   ]
  },
  {
   "cell_type": "code",
   "execution_count": null,
   "metadata": {},
   "outputs": [],
   "source": [
    "PROCEDURE applyDiscount(cost, percentDiscounted) {\n",
    "    temp ← 100 - percentDiscounted\n",
    "    temp ← temp / 100\n",
    "    cost ← cost * temp\n",
    "    RETURN(cost)\n",
    "}\n",
    "\n",
    "price ← applyDiscount(60, 20)"
   ]
  },
  {
   "cell_type": "markdown",
   "metadata": {},
   "source": [
    "# Libraries\n",
    "\n",
    "Library: A file that holds useful procedures for a program. An API, or Application Program Interface, provides guidelines for how these procedures work and are used. It enables these imported procedures to communicate with the rest of your code.\n",
    "\n",
    "Note: Modern companies and programmers often rely on various libraries like Requests, Pillow, Pandas, NumPy, SciKit-Learn, TensorFlow, and Matplotlib to create libraries."
   ]
  },
  {
   "cell_type": "code",
   "execution_count": 23,
   "metadata": {},
   "outputs": [
    {
     "data": {
      "image/png": "[encoded data removed]",
      "text/plain": [
       "<PIL.GifImagePlugin.GifImageFile image mode=P size=480x270 at 0x7F71F0619090>"
      ]
     },
     "metadata": {},
     "output_type": "display_data"
    }
   ],
   "source": [
    "#importing and using a library\n",
    "from PIL import Image\n",
    "\n",
    "# Example usage:\n",
    "image = Image.open('/home/vancer/vscode/cspblog2/images/batgif.gif')#This is the path of the image\n",
    "image.show()"
   ]
  }
 ],
 "metadata": {
  "kernelspec": {
   "display_name": "Python 3",
   "language": "python",
   "name": "python3"
  },
  "language_info": {
   "codemirror_mode": {
    "name": "ipython",
    "version": 3
   },
   "file_extension": ".py",
   "mimetype": "text/x-python",
   "name": "python",
   "nbconvert_exporter": "python",
   "pygments_lexer": "ipython3",
   "version": "3.10.12"
  }
 },
 "nbformat": 4,
 "nbformat_minor": 2
}
