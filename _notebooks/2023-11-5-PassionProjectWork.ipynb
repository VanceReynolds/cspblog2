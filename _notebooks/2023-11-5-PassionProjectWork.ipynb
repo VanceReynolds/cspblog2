{
 "cells": [
  {
   "cell_type": "markdown",
   "metadata": {},
   "source": [
    "---\n",
    "toc: true\n",
    "comments: true\n",
    "layout: post\n",
    "title: Pokédex Passion Project Contributions\n",
    "description: Three contributions to my groups passion project.\n",
    "type: hacks\n",
    "courses: { compsci: {week: 10} }\n",
    "---"
   ]
  },
  {
   "cell_type": "markdown",
   "metadata": {},
   "source": [
    "# API Database"
   ]
  },
  {
   "cell_type": "markdown",
   "metadata": {},
   "source": [
    "My group initially agreed that I was one of the two members to work on the frontend. However,I ended up doing some backend work anyway. This included our initial database for the API."
   ]
  },
  {
   "cell_type": "code",
   "execution_count": null,
   "metadata": {},
   "outputs": [],
   "source": [
    "pokemon_list = [\n",
    "    {\n",
    "        \"name\": \"Bulbasaur\",\n",
    "        \"hp\": 9,\n",
    "        \"attack\": 7,\n",
    "        \"height\": \"28\",\n",
    "        \"weight_in_lbs\": \"15.2\",\n",
    "        \"abilities\": \"Overgrow\",\n",
    "        \"type\": \"Grass/Poison\",\n",
    "        \"weakness\": [\"Fire\", \"Psychic\", \"Ice\", \"Flying\"]\n",
    "    },\n",
    "    {\n",
    "        \"name\": \"Ivysaur\",\n",
    "        \"hp\": 13,\n",
    "        \"attack\": 8,\n",
    "        \"height\": \"39\",\n",
    "        \"weight_in_lbs\": \"28.7\",\n",
    "        \"abilities\": \"Overgrow\",\n",
    "        \"type\": \"Grass/Poison\",\n",
    "        \"weakness\": [\"Fire\", \"Psychic\", \"Ice\", \"Flying\"]\n",
    "    },\n",
    "    {\n",
    "        \"name\": \"Venusaur\",\n",
    "        \"hp\": 14,\n",
    "        \"attack\": 9,\n",
    "        \"height\": \"79\",\n",
    "        \"weight_in_lbs\": \"220.5\",\n",
    "        \"abilities\": \"Overgrow\",\n",
    "        \"type\": \"Grass/Poison\",\n",
    "        \"weakness\": [\"Fire\", \"Psychic\", \"Ice\", \"Flying\"]\n",
    "    },\n",
    "    {\n",
    "        \"name\": \"Charmander\",\n",
    "        \"hp\": 7,\n",
    "        \"attack\": 8,\n",
    "        \"height\": \"24\",\n",
    "        \"weight_in_lbs\": \"18.7\",\n",
    "        \"abilities\": \"Blaze\",\n",
    "        \"type\": \"Fire\",\n",
    "        \"weakness\": [\"Water\", \"Rock\", \"Ground\"]\n",
    "    }\n",
    "]"
   ]
  },
  {
   "cell_type": "markdown",
   "metadata": {},
   "source": [
    "This is a small excerpt from the database, it includes the first 100 pokemon and related data from the official Pokédex. Writing all of this by hand would be extremely time consuming, so I engineered AI to do it for me.\n",
    "\n",
    "![AI](https://media.discordapp.net/attachments/1171247880305115226/1171248674798571570/gptcell.PNG?ex=655bfd54&is=65498854&hm=121ba3a6ff5266ec96735877257be1fd58bf45439b9f819a57e59dc614add09b&=&width=763&height=571)\n",
    "\n",
    "\n",
    "However this didn't work flawlessly, I was required to have it fill in the format in sections of 18-19 Pokémon due to cell size requirements within the ChatGPT site."
   ]
  },
  {
   "cell_type": "markdown",
   "metadata": {},
   "source": [
    "# Frontend Design\n",
    "\n",
    "I worked on the front end of the project a lot, and one of my jobs was to help create the front page's tables, buttons, and overall look.\n",
    "\n",
    "The following shows some of the work I did in CSS to create the apearance of the website."
   ]
  },
  {
   "cell_type": "markdown",
   "metadata": {},
   "source": [
    "\n",
    "  /* Style the table rows and cells */\n",
    "  tr:nth-child(odd) {\n",
    "    background-color: #1A6EB2;  /* Color for even rows */\n",
    "    color: #FFC805; /* Text color for even rows */\n",
    "  }\n",
    "  \n",
    "  tr:nth-child(even) {\n",
    "    background-color: #94D1EF; /* Color for odd rows */\n",
    "    color: #B3A125; /* Text color for odd rows */\n",
    "  }\n",
    "  \n",
    "  tr:hover {\n",
    "    background-color: #345698; /* Color on hover */\n",
    "  }\n",
    "  \n",
    "  /* Style the upvote and downvote buttons */\n",
    "  button {\n",
    "    background-color: #3B4CCA;\n",
    "    color: white;\n",
    "    border: none;\n",
    "    padding: 5px 10px;\n",
    "    cursor: pointer;\n",
    "    transition: background-color 0.3s;\n",
    "    border-radius: 50px; /* Rounded buttons */\n",
    "  }\n",
    "  \n",
    "  button:hover {\n",
    "    background-color: #FFC805; /* Yellow on hover */\n",
    "  }"
   ]
  },
  {
   "cell_type": "markdown",
   "metadata": {},
   "source": [
    "I utilized tools and informations I learned in Photography at Del Norte to create the design for the page. This included analyizing the Pokemon color pallete and using color theory to perfect the look of the website."
   ]
  },
  {
   "cell_type": "markdown",
   "metadata": {},
   "source": [
    "![card](https://media.discordapp.net/attachments/1171247880305115226/1171248675914264597/card-template.jpg?ex=655bfd55&is=65498855&hm=e7fa19e7b284bc5d0d92f4a6206a7d3c18768265281ef49d5ee114960591ea29&=&width=236&height=332)"
   ]
  },
  {
   "cell_type": "markdown",
   "metadata": {},
   "source": [
    "# Table Sorting\n",
    "\n",
    "A large portion of the time I spent on the project was directed toward the sites table sorting mechanism. It included a drop down with three methods of sorting ID (default), highest rated, and lowest rated. The code was wrote in Javascript and called in the index.md in markdown. Ultimately this code did not make the final cut. There was too much work to be done to get it working, and it was impossible to troubleshoot and debug with the AWS API being down.\n",
    "\n",
    "![Passion](https://media.discordapp.net/attachments/1171247880305115226/1171584950030565499/mylocalsorting.PNG?ex=655d3683&is=654ac183&hm=f849d8fa041d4bd34da06830f13130ef6147eaf93dc3b967e29ecacd56ebbd09&=&width=1006&height=571)"
   ]
  },
  {
   "cell_type": "markdown",
   "metadata": {},
   "source": [
    "The following code cell displays what I had written for the table sorting mechanism."
   ]
  },
  {
   "cell_type": "code",
   "execution_count": null,
   "metadata": {},
   "outputs": [],
   "source": [
    "// Function to sort and update the table based on the selected option\n",
    "function sortAndRenderTable(sortBy) {\n",
    "  const rows = Array.from(resultContainer.getElementsByTagName('tr'));\n",
    "\n",
    "  // Remove the header row from the sorting process\n",
    "  const headerRow = rows.shift();\n",
    "\n",
    "  // Sort the rows based on the selected option\n",
    "  if (sortBy === \"upvote\") {\n",
    "    // Sort by Upvotes\n",
    "    rows.sort((a, b) => {\n",
    "      const aUpvote = parseInt(a.getElementsByTagName('td')[1].getElementsByTagName('button')[0].innerHTML);\n",
    "      const bUpvote = parseInt(b.getElementsByTagName('td')[1].getElementsByTagName('button')[0].innerHTML);\n",
    "      return bUpvote - aUpvote; // Sort in descending order (highest Upvotes first)\n",
    "    });\n",
    "  } else if (sortBy === \"downvote\") {\n",
    "    // Sort by Downvotes\n",
    "    rows.sort((a, b) => {\n",
    "      const aDownvote = parseInt(a.getElementsByTagName('td')[2].getElementsByTagName('button')[0].innerHTML);\n",
    "      const bDownvote = parseInt(b.getElementsByTagName('td')[2].getElementsByTagName('button')[0].innerHTML);\n",
    "      return bDownvote - aDownvote; // Sort in descending order (highest Downvotes first)\n",
    "    });\n",
    "  } else if (sortBy === \"poke_id\") {\n",
    "    // Sort by ID (poke_id)\n",
    "    rows.sort((a, b) => {\n",
    "      const aId = parseInt(a.getElementsByTagName('td')[0].innerText.split(\". \")[0]);\n",
    "      const bId = parseInt(b.getElementsByTagName('td')[0].innerText.split(\". \")[0]);\n",
    "      return aId - bId; // Sort in ascending order (lowest ID first)\n",
    "    });\n",
    "  }\n",
    "\n",
    "  // Clear the current table content\n",
    "  resultContainer.innerHTML = '';\n",
    "\n",
    "  // Add the header row back to the table\n",
    "  resultContainer.appendChild(headerRow);\n",
    "\n",
    "  // Append the sorted rows to the table\n",
    "  rows.forEach(row => {\n",
    "    resultContainer.appendChild(row);\n",
    "  });\n",
    "}"
   ]
  },
  {
   "cell_type": "markdown",
   "metadata": {},
   "source": [
    "Code Explained:\n",
    "\n",
    "1. Define a function named sortAndRenderTable to sort and update the table based on the selected option.\n",
    "\n",
    "2. Create an array rows containing all rows in the resultContainer.\n",
    "\n",
    "3. Remove the header row from the sorting process and store it in headerRow.\n",
    "\n",
    "4. Check the selected sorting option (sortBy) to determine how to sort the rows.\n",
    "\n",
    "5. If sortBy is \"upvote,\" sort the rows by Upvotes in descending order (highest Upvotes first).\n",
    "\n",
    "6. Extract Upvote values from the rows and compare them to determine the sorting order.\n",
    "\n",
    "7. If sortBy is \"downvote,\" sort the rows by Downvotes in descending order (highest Downvotes first).\n",
    "\n",
    "8. Extract Downvote values from the rows and compare them to determine the sorting order.\n",
    "\n",
    "9. If sortBy is \"poke_id,\" sort the rows by ID (poke_id) in ascending order (lowest ID first).\n",
    "\n",
    "10. Extract ID values from the rows by splitting the inner text of the td element in each row and convert them to integers.\n",
    "\n",
    "11. Use a comparison function to sort the rows in ascending order based on ID.\n",
    "\n",
    "12. Clear the current table content by emptying the resultContainer.\n",
    "\n",
    "13. Add the header row back to the table.\n",
    "\n",
    "14. Append the sorted rows to the table, updating the visual display of the sorted table."
   ]
  }
 ],
 "metadata": {
  "kernelspec": {
   "display_name": "Python 3",
   "language": "python",
   "name": "python3"
  },
  "language_info": {
   "codemirror_mode": {
    "name": "ipython",
    "version": 3
   },
   "file_extension": ".py",
   "mimetype": "text/x-python",
   "name": "python",
   "nbconvert_exporter": "python",
   "pygments_lexer": "ipython3",
   "version": "3.10.12"
  }
 },
 "nbformat": 4,
 "nbformat_minor": 2
}
