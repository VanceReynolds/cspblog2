{
 "cells": [
  {
   "cell_type": "markdown",
   "metadata": {},
   "source": [
    "---\n",
    "toc: true\n",
    "comments: true\n",
    "layout: post\n",
    "title: Pokédex Passion Project Contributions\n",
    "description: Three contributions to my groups passion project.\n",
    "type: hacks\n",
    "courses: { compsci: {week: 10} }\n",
    "---"
   ]
  },
  {
   "cell_type": "markdown",
   "metadata": {},
   "source": [
    "# API Database"
   ]
  },
  {
   "cell_type": "markdown",
   "metadata": {},
   "source": [
    "My group initially agreed that I was one of the two members to work on the frontend. However,I ended up doing some backend work anyway. This included our initial database for the API."
   ]
  },
  {
   "cell_type": "code",
   "execution_count": null,
   "metadata": {},
   "outputs": [],
   "source": [
    "pokemon_list = [\n",
    "    {\n",
    "        \"name\": \"Bulbasaur\",\n",
    "        \"hp\": 9,\n",
    "        \"attack\": 7,\n",
    "        \"height\": \"28\",\n",
    "        \"weight_in_lbs\": \"15.2\",\n",
    "        \"abilities\": \"Overgrow\",\n",
    "        \"type\": \"Grass/Poison\",\n",
    "        \"weakness\": [\"Fire\", \"Psychic\", \"Ice\", \"Flying\"]\n",
    "    },\n",
    "    {\n",
    "        \"name\": \"Ivysaur\",\n",
    "        \"hp\": 13,\n",
    "        \"attack\": 8,\n",
    "        \"height\": \"39\",\n",
    "        \"weight_in_lbs\": \"28.7\",\n",
    "        \"abilities\": \"Overgrow\",\n",
    "        \"type\": \"Grass/Poison\",\n",
    "        \"weakness\": [\"Fire\", \"Psychic\", \"Ice\", \"Flying\"]\n",
    "    },\n",
    "    {\n",
    "        \"name\": \"Venusaur\",\n",
    "        \"hp\": 14,\n",
    "        \"attack\": 9,\n",
    "        \"height\": \"79\",\n",
    "        \"weight_in_lbs\": \"220.5\",\n",
    "        \"abilities\": \"Overgrow\",\n",
    "        \"type\": \"Grass/Poison\",\n",
    "        \"weakness\": [\"Fire\", \"Psychic\", \"Ice\", \"Flying\"]\n",
    "    },\n",
    "    {\n",
    "        \"name\": \"Charmander\",\n",
    "        \"hp\": 7,\n",
    "        \"attack\": 8,\n",
    "        \"height\": \"24\",\n",
    "        \"weight_in_lbs\": \"18.7\",\n",
    "        \"abilities\": \"Blaze\",\n",
    "        \"type\": \"Fire\",\n",
    "        \"weakness\": [\"Water\", \"Rock\", \"Ground\"]\n",
    "    }\n",
    "]"
   ]
  },
  {
   "cell_type": "markdown",
   "metadata": {},
   "source": [
    "This is a small excerpt from the database, it includes the first 100 pokemon and related data from the official Pokédex. Writing all of this by hand would be extremely time consuming, so I engineered AI to do it for me.\n",
    "\n",
    "![AI](/home/vancer/vscode/cspblog2/images/gptcell.PNG)\n",
    "\n",
    "\n",
    "However this didn't work flawlessly, I was required to have it fill in the format in sections of 18-19 Pokémon due to cell size requirements within the ChatGPT site."
   ]
  },
  {
   "cell_type": "markdown",
   "metadata": {},
   "source": []
  }
 ],
 "metadata": {
  "language_info": {
   "name": "python"
  }
 },
 "nbformat": 4,
 "nbformat_minor": 2
}
