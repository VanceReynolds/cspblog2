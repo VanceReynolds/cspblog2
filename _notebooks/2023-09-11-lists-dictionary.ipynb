{
 "cells": [
  {
   "cell_type": "markdown",
   "metadata": {},
   "source": [
    "---\n",
    "toc: true\n",
    "comments: true\n",
    "layout: post\n",
    "title: Lists/Dictionaries\n",
    "description: List hacks\n",
    "type: hacks\n",
    "courses: { compsci: {week: 4} }\n",
    "---"
   ]
  },
  {
   "cell_type": "code",
   "execution_count": 3,
   "metadata": {},
   "outputs": [
    {
     "name": "stdout",
     "output_type": "stream",
     "text": [
      "What is the variable name/key? value? type? primitive or collection, why?\n",
      "name John Doe <class 'str'>\n"
     ]
    }
   ],
   "source": [
    "print(\"What is the variable name/key?\", \"value?\", \"type?\", \"primitive or collection, why?\")\n",
    "name = \"John Doe\"\n",
    "print(\"name\", name, type(name))"
   ]
  },
  {
   "cell_type": "code",
   "execution_count": 4,
   "metadata": {},
   "outputs": [
    {
     "name": "stdout",
     "output_type": "stream",
     "text": [
      "What is the variable name/key? value? type? primitive or collection, why?\n",
      "age 18 <class 'int'>\n"
     ]
    }
   ],
   "source": [
    "print(\"What is the variable name/key?\", \"value?\", \"type?\", \"primitive or collection, why?\")\n",
    "age = 18\n",
    "print(\"age\", age, type(age))"
   ]
  },
  {
   "cell_type": "code",
   "execution_count": 5,
   "metadata": {},
   "outputs": [
    {
     "name": "stdout",
     "output_type": "stream",
     "text": [
      "What is the variable name/key? value? type? primitive or collection, why?\n",
      "score 90.0 <class 'float'>\n"
     ]
    }
   ],
   "source": [
    "print(\"What is the variable name/key?\", \"value?\", \"type?\", \"primitive or collection, why?\")\n",
    "score = 90.0\n",
    "print(\"score\", score, type(score))"
   ]
  },
  {
   "cell_type": "code",
   "execution_count": 6,
   "metadata": {},
   "outputs": [
    {
     "name": "stdout",
     "output_type": "stream",
     "text": [
      "What is variable name/key? value? type? primitive or collection?\n",
      "What is different about the list output?\n",
      "langs ['Python', 'JavaScript', 'Java'] <class 'list'> length 3\n",
      "- langs[0] Python <class 'str'>\n",
      "- langs[1] JavaScript <class 'str'>\n",
      "- langs[2] Java <class 'str'>\n"
     ]
    }
   ],
   "source": [
    "print(\"What is variable name/key?\", \"value?\", \"type?\", \"primitive or collection?\")\n",
    "print(\"What is different about the list output?\")\n",
    "langs = [\"Python\", \"JavaScript\", \"Java\"]\n",
    "print(\"langs\", langs, type(langs), \"length\", len(langs))\n",
    "print(\"- langs[0]\", langs[0], type(langs[0]))\n",
    "print(\"- langs[1]\", langs[1], type(langs[1]))\n",
    "print(\"- langs[2]\", langs[2], type(langs[2]))"
   ]
  },
  {
   "cell_type": "code",
   "execution_count": 11,
   "metadata": {},
   "outputs": [
    {
     "name": "stdout",
     "output_type": "stream",
     "text": [
      "What is the variable name/key? value? type? primitive or collection, why?\n",
      "What is different about the dictionary output?\n",
      "person {'name': 'John Doe', 'age': 18, 'score': 90.0, 'langs': ['Python', 'JavaScript', 'Java']} <class 'dict'> length 4\n",
      "- person[\"name\"] John Doe <class 'str'>\n",
      "- person[\"age\"] 18 <class 'int'>\n",
      "- person[\"score\"] 90.0 <class 'float'>\n",
      "- person[\"langs\"] ['Python', 'JavaScript', 'Java'] <class 'list'>\n"
     ]
    }
   ],
   "source": [
    "print(\"What is the variable name/key?\", \"value?\", \"type?\", \"primitive or collection, why?\")\n",
    "print(\"What is different about the dictionary output?\")\n",
    "person = {\n",
    "    \"name\": name,\n",
    "    \"age\": age,\n",
    "    \"score\": score,\n",
    "    \"langs\": langs\n",
    "}\n",
    "print(\"person\", person, type(person), \"length\", len(person))\n",
    "print('- person[\"name\"]', person[\"name\"], type(person[\"name\"]))\n",
    "print('- person[\"age\"]', person[\"age\"], type(person[\"age\"]))\n",
    "print('- person[\"score\"]', person[\"score\"], type(person[\"score\"]))\n",
    "print('- person[\"langs\"]', person[\"langs\"], type(person[\"langs\"]))"
   ]
  },
  {
   "cell_type": "code",
   "execution_count": 13,
   "metadata": {},
   "outputs": [
    {
     "name": "stdout",
     "output_type": "stream",
     "text": [
      "[{'FirstName': 'John', 'LastName': 'Mortensen', 'DOB': 'October 21', 'Residence': 'San Diego', 'Email': 'jmortensen@powayusd.com', 'Owns_Cars': ['2015-Fusion', '2011-Ranger', '2003-Excursion', '1997-F350', '1969-Cadillac']}, {'FirstName': 'Sunny', 'LastName': 'Naidu', 'DOB': 'August 2', 'Residence': 'Temecula', 'Email': 'snaidu@powayusd.com', 'Owns_Cars': ['4Runner']}, {'FirstName': 'Shane', 'LastName': 'Lopez', 'DOB': 'February 27', 'Residence': 'San Diego', 'Email': '???@powayusd.com', 'Owns_Cars': ['2021-Insight']}]\n"
     ]
    }
   ],
   "source": [
    "InfoDb = []\n",
    "\n",
    "# InfoDB is a data structure with expected Keys and Values\n",
    "\n",
    "# Append to List a Dictionary of key/values related to a person and cars\n",
    "InfoDb.append({\n",
    "    \"FirstName\": \"John\",\n",
    "    \"LastName\": \"Mortensen\",\n",
    "    \"DOB\": \"October 21\",\n",
    "    \"Residence\": \"San Diego\",\n",
    "    \"Email\": \"jmortensen@powayusd.com\",\n",
    "    \"Owns_Cars\": [\"2015-Fusion\", \"2011-Ranger\", \"2003-Excursion\", \"1997-F350\", \"1969-Cadillac\"]\n",
    "})\n",
    "\n",
    "# Append to List a 2nd Dictionary of key/values\n",
    "InfoDb.append({\n",
    "    \"FirstName\": \"Sunny\",\n",
    "    \"LastName\": \"Naidu\",\n",
    "    \"DOB\": \"August 2\",\n",
    "    \"Residence\": \"Temecula\",\n",
    "    \"Email\": \"snaidu@powayusd.com\",\n",
    "    \"Owns_Cars\": [\"4Runner\"]\n",
    "})\n",
    "\n",
    "# Append to List a 2nd Dictionary of key/values\n",
    "InfoDb.append({\n",
    "    \"FirstName\": \"Shane\",\n",
    "    \"LastName\": \"Lopez\",\n",
    "    \"DOB\": \"February 27\",\n",
    "    \"Residence\": \"San Diego\",\n",
    "    \"Email\": \"???@powayusd.com\",\n",
    "    \"Owns_Cars\": [\"2021-Insight\"]\n",
    "})\n",
    "\n",
    "# Print the data structure\n",
    "print(InfoDb)"
   ]
  },
  {
   "cell_type": "markdown",
   "metadata": {},
   "source": [
    "## Custom Lists Hacks"
   ]
  },
  {
   "cell_type": "code",
   "execution_count": 12,
   "metadata": {},
   "outputs": [
    {
     "name": "stdout",
     "output_type": "stream",
     "text": [
      "[{'Operator': 'Iana', 'Rating': '6/10', 'Age': '35', 'Primary Weapons': ['ARX 200', 'G36-C']}, {'Operator': 'Fuze', 'Rating': '7/10', 'Age': '34', 'Primary Weapons': ['AK 12', 'Ballistic SHield', '6P41 LMG']}, {'Operator': 'Ash', 'Rating': '8/10', 'Age': '33', 'Primary Weapons': ['G36-C', 'R4-C']}]\n"
     ]
    }
   ],
   "source": [
    "Siege = []\n",
    "Siege.append({\n",
    "    \"Operator\": \"Iana\",\n",
    "    \"Rating\": \"6/10\",\n",
    "    \"Age\": \"35\",\n",
    "    \"Primary Weapons\": [\"ARX 200\", \"G36-C\",]\n",
    "})\n",
    "Siege.append({\n",
    "    \"Operator\": \"Fuze\",\n",
    "    \"Rating\": \"7/10\",\n",
    "    \"Age\": \"34\",\n",
    "    \"Primary Weapons\": [\"AK 12\", \"Ballistic SHield\",\"6P41 LMG\"]\n",
    "})\n",
    "Siege.append({\n",
    "    \"Operator\": \"Ash\",\n",
    "    \"Rating\": \"8/10\",\n",
    "    \"Age\": \"33\",\n",
    "    \"Primary Weapons\": [\"G36-C\", \"R4-C\",]\n",
    "})\n",
    "print(Siege)"
   ]
  }
 ],
 "metadata": {
  "kernelspec": {
   "display_name": "Python 3",
   "language": "python",
   "name": "python3"
  },
  "language_info": {
   "codemirror_mode": {
    "name": "ipython",
    "version": 3
   },
   "file_extension": ".py",
   "mimetype": "text/x-python",
   "name": "python",
   "nbconvert_exporter": "python",
   "pygments_lexer": "ipython3",
   "version": "3.10.12"
  },
  "orig_nbformat": 4
 },
 "nbformat": 4,
 "nbformat_minor": 2
}
