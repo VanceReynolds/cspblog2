{
 "cells": [
  {
   "cell_type": "markdown",
   "metadata": {},
   "source": [
    "---\n",
    "toc: true\n",
    "comments: true\n",
    "layout: post\n",
    "title: CollegeBoard Practice MC Notes\n",
    "description: Notes/Corrections\n",
    "type: hacks\n",
    "courses: { compsci: {week: 10} }\n",
    "---"
   ]
  },
  {
   "cell_type": "markdown",
   "metadata": {},
   "source": [
    "# Missed Questions\n",
    "Q43, Q60, Q66"
   ]
  },
  {
   "cell_type": "markdown",
   "metadata": {},
   "source": [
    "# Question 43\n",
    "\n",
    "![Q43](/home/vancer/vscode/cspblog2/images/q43.PNG)\n",
    "\n",
    "In this question, I mistook the algorithm for being exponential when it was actually polynomial. My thought process was that the table increased significantly between values, which made me think it was exponential. However, when I looked back at the question, it became clear that it was not exponentially increasing. I knew what reasonable time meant, reasonable time is defined as an algorithm with polynomial efficiency or lower (constant, linear, square, cube, etc.). If I had recognized that the values followed a polynomial pattern, I would have answered it correctly."
   ]
  },
  {
   "cell_type": "markdown",
   "metadata": {},
   "source": [
    "# Question 60\n",
    "\n",
    "![Q60](/home/vancer/vscode/cspblog2/images/q60.PNG)\n",
    "\n",
    "This question was about abstraction. Put simply, abstraction is the process of simplifying complex systems or concepts by focusing on essential details while ignoring unnecessary complexities. Answers A and D are correct because they directly simplify the code by encapsulating common functionality into a reusable unit. Option B while good for code readability, isn't directly a method of abstraction for managing program complexity."
   ]
  },
  {
   "cell_type": "markdown",
   "metadata": {},
   "source": [
    "# Question 66\n",
    "\n",
    "![Q66](/home/vancer/vscode/cspblog2/images/q66.PNG)\n",
    "\n",
    "Question 66 was the last question on the test, and by this point I was tired of testing and wanted to move on. In a rush I read over the part that said \"Select 2 Answers\". So I only selected D and moved on. The answer to the problem was clearly C and D because they both represent the values in a list in descending order, which is opposite of the intended ascending order. Leading to options C and D not returning the intended values due to the incorrect order of elements in the list. "
   ]
  }
 ],
 "metadata": {
  "language_info": {
   "name": "python"
  }
 },
 "nbformat": 4,
 "nbformat_minor": 2
}
