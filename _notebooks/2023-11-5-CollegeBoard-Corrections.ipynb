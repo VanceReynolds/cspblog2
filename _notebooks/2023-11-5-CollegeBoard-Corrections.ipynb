{
 "cells": [
  {
   "cell_type": "markdown",
   "metadata": {},
   "source": [
    "---\n",
    "toc: true\n",
    "comments: true\n",
    "layout: post\n",
    "title: CollegeBoard Practice MC Notes\n",
    "description: Notes/Corrections\n",
    "type: hacks\n",
    "courses: { compsci: {week: 10} }\n",
    "---"
   ]
  },
  {
   "cell_type": "markdown",
   "metadata": {},
   "source": [
    "# Missed Questions\n",
    "Q43, Q60, Q66"
   ]
  },
  {
   "cell_type": "markdown",
   "metadata": {},
   "source": [
    "# Question 43\n",
    "\n",
    "![Q43](https://media.discordapp.net/attachments/1171247880305115226/1171248675587100682/q43.PNG?ex=655bfd55&is=65498855&hm=9d5cb5086efe29f29912bee4ed2aa8f933a3427e06ec6b646e650898ac9a6879&=&width=961&height=571)\n",
    "\n",
    "In this question, I mistook the algorithm for being exponential when it was actually polynomial. My thought process was that the table increased significantly between values, which made me think it was exponential. However, when I looked back at the question, it became clear that it was not exponentially increasing. I knew what reasonable time meant, reasonable time is defined as an algorithm with polynomial efficiency or lower (constant, linear, square, cube, etc.). If I had recognized that the values followed a polynomial pattern, I would have answered it correctly."
   ]
  },
  {
   "cell_type": "markdown",
   "metadata": {},
   "source": [
    "# Question 60\n",
    "\n",
    "![Q60](https://media.discordapp.net/attachments/1171247880305115226/1171248675310272612/q60.PNG?ex=655bfd54&is=65498854&hm=9e67848459b80b0cb3b96fd0d655197aabbbc12faefa765b648b64419ddcd046&=&width=1316&height=571)\n",
    "\n",
    "This question was about abstraction. Put simply, abstraction is the process of simplifying complex systems or concepts by focusing on essential details while ignoring unnecessary complexities. Answers A and D are correct because they directly simplify the code by encapsulating common functionality into a reusable unit. Option B while good for code readability, isn't directly a method of abstraction for managing program complexity."
   ]
  },
  {
   "cell_type": "markdown",
   "metadata": {},
   "source": [
    "# Question 66\n",
    "\n",
    "![Q66](https://media.discordapp.net/attachments/1171247880305115226/1171248675016683520/q66.PNG?ex=655bfd54&is=65498854&hm=9a0a44909f64805eae4f03b67ba12c5320c4f039c9a0d3149bd62bf88c85dbdf&=&width=771&height=571)\n",
    "\n",
    "Question 66 was the last question on the test, and by this point I was tired of testing and wanted to move on. In a rush I read over the part that said \"Select 2 Answers\". So I only selected D and moved on. The answer to the problem was clearly C and D because they both represent the values in a list in descending order, which is opposite of the intended ascending order. Leading to options C and D not returning the intended values due to the incorrect order of elements in the list. "
   ]
  }
 ],
 "metadata": {
  "language_info": {
   "name": "python"
  }
 },
 "nbformat": 4,
 "nbformat_minor": 2
}
