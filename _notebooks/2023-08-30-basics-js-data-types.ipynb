{
 "cells": [
  {
   "cell_type": "raw",
   "metadata": {},
   "source": [
    "---\n",
    "title: Javascript Data Types/Lists\n",
    "hide: True\n",
    "description: A Tech Talk on javascript data types and how to use with lists\n",
    "type: ccc\n",
    "permalink: /basics/datatypes\n",
    "author: Rohan Juneja\n",
    "---"
   ]
  },
  {
   "cell_type": "raw",
   "metadata": {},
   "source": [
    "{% include nav_basics.html %}\n"
   ]
  },
  {
   "cell_type": "markdown",
   "metadata": {},
   "source": [
    "# HACK COMPLETE"
   ]
  },
  {
   "cell_type": "code",
   "execution_count": 1,
   "metadata": {
    "vscode": {
     "languageId": "javascript"
    }
   },
   "outputs": [
    {
     "data": {
      "application/javascript": "\nconst person = {\n  name: \"Batman\",\n  age: 36,\n  villans: [\"Penguin\", \"Joker\", \"Two-Face\", \"Bane\"],\n  interests: [\"Fighting Crime\", \"Justice\", \"Balling out\",],\n  heightInInches: 75,\n  weightInPounds: 172,\n};\n\nconsole.log(\"Batman After:\");\nconsole.log(person);\n\nperson.villans.push(\"Adding Riddler and manipulating interests\");\nperson.interests.shift();\n\nconsole.log(\"Batman After:\");\nconsole.log(person);\n\nconst bmi = (person.weightInPounds / (person.heightInInches * person.heightInInches)) * 703;\nconst yearsUntilRetirement = 65 - person.age;\n// Printing BMI\nconsole.log(\"\\nCalculations:\");\nconsole.log(`BMI: ${bmi.toFixed(2)}`);\nconsole.log(`Years until retirement: ${yearsUntilRetirement}`);\n// Printing types of variables\nconsole.log(\"\\nField Types:\");\nconsole.log(`Name is a ${typeof person.name}`);\nconsole.log(`Age is a ${typeof person.age}`);\nconsole.log(`Interests is an array: ${Array.isArray(person.interests)}`);\n",
      "text/plain": [
       "<IPython.core.display.Javascript object>"
      ]
     },
     "metadata": {},
     "output_type": "display_data"
    }
   ],
   "source": [
    "%%js\n",
    "\n",
    "const person = {\n",
    "  name: \"Batman\",\n",
    "  age: 36,\n",
    "  villans: [\"Penguin\", \"Joker\", \"Two-Face\", \"Bane\"],\n",
    "  interests: [\"Fighting Crime\", \"Justice\", \"Balling out\",],\n",
    "  heightInInches: 75,\n",
    "  weightInPounds: 172,\n",
    "};\n",
    "\n",
    "console.log(\"Batman After:\");\n",
    "console.log(person);\n",
    "\n",
    "person.villans.push(\"Adding Riddler and manipulating interests\");\n",
    "person.interests.shift();\n",
    "\n",
    "console.log(\"Batman After:\");\n",
    "console.log(person);\n",
    "\n",
    "const bmi = (person.weightInPounds / (person.heightInInches * person.heightInInches)) * 703;\n",
    "const yearsUntilRetirement = 65 - person.age;\n",
    "// Printing BMI\n",
    "console.log(\"\\nCalculations:\");\n",
    "console.log(`BMI: ${bmi.toFixed(2)}`);\n",
    "console.log(`Years until retirement: ${yearsUntilRetirement}`);\n",
    "// Printing types of variables\n",
    "console.log(\"\\nField Types:\");\n",
    "console.log(`Name is a ${typeof person.name}`);\n",
    "console.log(`Age is a ${typeof person.age}`);\n",
    "console.log(`Interests is an array: ${Array.isArray(person.interests)}`);"
   ]
  }
 ],
 "metadata": {
  "kernelspec": {
   "display_name": "Python 3 (ipykernel)",
   "language": "python",
   "name": "python3"
  },
  "language_info": {
   "codemirror_mode": {
    "name": "ipython",
    "version": 3
   },
   "file_extension": ".py",
   "mimetype": "text/x-python",
   "name": "python",
   "nbconvert_exporter": "python",
   "pygments_lexer": "ipython3",
   "version": "3.10.12"
  }
 },
 "nbformat": 4,
 "nbformat_minor": 4
}
