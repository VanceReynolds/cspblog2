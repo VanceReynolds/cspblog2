{
 "cells": [
  {
   "cell_type": "markdown",
   "metadata": {},
   "source": [
    "---\n",
    "toc: true\n",
    "comments: false\n",
    "layout: post\n",
    "title: CPT Final\n",
    "description: NATM\n",
    "type: tangibles\n",
    "courses: { compsci: {week: 22} }\n",
    "---"
   ]
  },
  {
   "cell_type": "markdown",
   "metadata": {},
   "source": [
    "## CPT Final Review Ticket\n",
    "\n",
    "Project Overview:\n",
    "My teams project breaks down the popular mobile game \"Clash Royale\", each team member created a unique feautre relating to an aspect of the game. This includes databases displaying user information, tournaments, news, simulations of deck creation and chest openings and top decks on the game.\n",
    "\n",
    "My Feature:\n",
    "My feature displays data collected at official clash royale tournaments a user interactive format. The user can see the top decks in the current meta and sort through them based off of data such as popularity and win percentage.\n",
    "\n",
    "Meeting College Board Requirments:\n",
    "Instructions for input from one of the following: the user, a device, an online datas stream, a file:\n",
    "When a user opens the page, the data is being pulled from database, and when the user inputs a restriction the format will change to fit their needs.\n",
    "\n",
    "Use of at least one list (or other collection type) to represent a collection of data that is stored and used to manage program complexity and help fulfill the users purpose:\n",
    "\n",
    "\n",
    "At least one procedure that contirubted to the program’s intened purpose where you have defined: the name, return type, one or more parameters:\n",
    "\n",
    "..."
   ]
  },
  {
   "cell_type": "markdown",
   "metadata": {},
   "source": [
    "## CPT Feature Video:\n",
    "\n",
    "Input to program:\n",
    "Selection by the user for parameters to search by.\n",
    "\n",
    "At least one aspect of the functionality of your program:\n",
    "User can use the top rated decks with its valuable data to construct decks of their own, or copy one that fits their playstle.\n",
    "\n",
    "Output Produced by Program:\n",
    "The ouput is regenerated based on the information recieved from the user.\n",
    "\n",
    "My video is a .mp4, less than 1 minute in length, less than 30MB in file size. "
   ]
  }
 ],
 "metadata": {
  "language_info": {
   "name": "python"
  }
 },
 "nbformat": 4,
 "nbformat_minor": 2
}
