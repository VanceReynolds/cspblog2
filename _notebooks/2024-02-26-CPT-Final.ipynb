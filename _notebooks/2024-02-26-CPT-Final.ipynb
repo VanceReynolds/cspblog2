{
 "cells": [
  {
   "cell_type": "markdown",
   "metadata": {},
   "source": [
    "---\n",
    "toc: true\n",
    "comments: false\n",
    "layout: post\n",
    "title: CPT Final\n",
    "description: NATM\n",
    "type: tangibles\n",
    "courses: { compsci: {week: 22} }\n",
    "---"
   ]
  },
  {
   "cell_type": "markdown",
   "metadata": {},
   "source": [
    "## CPT Final Review Ticket\n",
    "\n",
    "Project Overview:\n",
    "My teams project breaks down the popular mobile game \"Clash Royale\", each team member created a unique feautre relating to an aspect of the game. This includes databases displaying user information, tournaments, news, simulations of deck creation and chest openings and top decks on the game.\n",
    "\n",
    "My Feature:\n",
    "My feature displays data collected at official clash royale tournaments in a user interactive format. The user can see the top decks in the current meta and sort through them based off of data such as popularity and win percentage. This feature provides valuable insight into deck building, as a precursor for experienced and new players to Dante's and Ashwin's features. I had a second feature in the works for a while that was never finished, it worked in tandem with Gershawn's feature pulling data from the official clash royale database. The purpose was to retrieve clan and player information and displaying it for the user to search through, I spent many hours before and during break, attempting to get the data to pull and display but with much troubleshooting and attempts to reach out to my peers for assistance my second feature ultimately fell through. In addition to my feature, I put in extensive effort in to my groups team teach, and frontend design, I helped construct the frontend visuals and layout of the site.\n",
    "\n",
    "Meeting College Board Requirments:\n",
    "Instructions for input from one of the following: the user, a device, an online datas stream, a file:\n",
    "When a user opens the page, the data is being pulled from database, and when the user inputs a restriction the format will change to fit their needs.\n",
    "\n",
    "Use of at least one list (or other collection type) to represent a collection of data that is stored and used to manage program complexity and help fulfill the users purpose:\n",
    "Shown in database with card data.\n",
    "\n",
    "![Database](https://media.discordapp.net/attachments/1207760856704614511/1212109398357311558/sampledeckdata.PNG?ex=65f0a3d8&is=65de2ed8&hm=ba808d3e0966609241cd52a0c5dc1f5a7220208e49dd4fae296fc6fb54e163a2&=&format=webp&quality=lossless&width=925&height=571)\n",
    "\n",
    "At least one procedure that contirubted to the program’s intened purpose where you have defined: the name, return type, one or more parameters:\n",
    "\"sortDecks\", changes the return type and parameters.\n",
    "\n",
    "![Script](https://media.discordapp.net/attachments/1207760856704614511/1212109398026092584/sortjs.PNG?ex=65f0a3d8&is=65de2ed8&hm=3b05fd31070df3ff0ec68177890c0d44ddf5bac6155ced53c1609af2c726f975&=&format=webp&quality=lossless&width=630&height=571)\n",
    "\n",
    "Calls to your student-developed procedure:\n",
    "I met this requirement by using the function sortDecks() to change the display.\n",
    "\n",
    "Instructions for output (tactile, audible, visual, or other) based on input and program functionality:\n",
    "HTML Code with tables for interaction by user, changes output (visual) from database.\n",
    "\n",
    "![HTML](https://media.discordapp.net/attachments/1207760856704614511/1212109397723979788/htmltable.PNG?ex=65f0a3d8&is=65de2ed8&hm=c6c8dccab137265ef5b0ce847f6e1d04e7ecdefe9757989c2544422f1915e914&=&format=webp&quality=lossless&width=673&height=453)\n",
    "\n",
    "An algorithm that includes sequencing, selection, and iteration that is in the body of the selected procedure:\n",
    "Sequencing, the script starts by declaring the variable sortDecks()\n",
    "\n",
    "Key Commits\n",
    "\n",
    "[https://github.com/Ashwinv93/GLADV2Frontend/commit/26ad62a001f3136faff7fafa4c842f4af557abf3](Top Decks)\n",
    "\n",
    "[https://github.com/Ashwinv93/GLADV2Frontend/commit/cee28575c454ace845390a28761f8ea2055ead8e](Player Data)\n"
   ]
  },
  {
   "cell_type": "markdown",
   "metadata": {},
   "source": [
    "## CPT Feature Video:\n",
    "\n",
    "Input to program:\n",
    "Selection by the user for parameters to search by.\n",
    "\n",
    "At least one aspect of the functionality of your program:\n",
    "User can use the top rated decks with its valuable data to construct decks of their own, or copy one that fits their playstle.\n",
    "\n",
    "Output Produced by Program:\n",
    "The ouput is regenerated based on the information recieved from the user.\n",
    "\n",
    "My video is a .mp4, less than 1 minute in length, less than 30MB in file size. "
   ]
  }
 ],
 "metadata": {
  "language_info": {
   "name": "python"
  }
 },
 "nbformat": 4,
 "nbformat_minor": 2
}
