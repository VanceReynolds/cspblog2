{
 "cells": [
  {
   "cell_type": "markdown",
   "metadata": {},
   "source": [
    "---\n",
    "toc: true\n",
    "comments: true\n",
    "layout: post\n",
    "title: Data Abstraction\n",
    "description: Tech talk from fellow classmates, popcorn hacks included. (HW at bottom)\n",
    "type: hacks\n",
    "courses: { compsci: {week: 7} }\n",
    "---"
   ]
  },
  {
   "cell_type": "code",
   "execution_count": 3,
   "metadata": {},
   "outputs": [
    {
     "name": "stdout",
     "output_type": "stream",
     "text": [
      "Vance\n",
      "5'11\n"
     ]
    }
   ],
   "source": [
    "name = \"Vance\"\n",
    "\n",
    "print(name)\n",
    "\n",
    "myheight = \"5'11\"\n",
    "\n",
    "print(myheight)"
   ]
  },
  {
   "cell_type": "code",
   "execution_count": 6,
   "metadata": {},
   "outputs": [
    {
     "name": "stdout",
     "output_type": "stream",
     "text": [
      "Ronit\n",
      "2\n",
      "True\n"
     ]
    }
   ],
   "source": [
    "# Popcorn Hack 2\n",
    "\n",
    "friend = \"Ronit\"\n",
    "print(friend)\n",
    "\n",
    "number_of_enemies=2\n",
    "print(number_of_enemies)\n",
    "\n",
    "bestfriends=2\n",
    "print(bestfriends<3)"
   ]
  },
  {
   "cell_type": "code",
   "execution_count": 12,
   "metadata": {},
   "outputs": [
    {
     "name": "stdout",
     "output_type": "stream",
     "text": [
      "25\n",
      "50\n",
      "100\n",
      "175\n"
     ]
    }
   ],
   "source": [
    "# Popcorn Hack 3\n",
    "\n",
    "num1 = 25\n",
    "num2 = 50\n",
    "num3 = 100\n",
    "\n",
    "print(num1)\n",
    "print(num2)\n",
    "print(num3)\n",
    "\n",
    "total_sum = num1+num2+num3\n",
    "\n",
    "print(total_sum)\n",
    "\n"
   ]
  },
  {
   "cell_type": "code",
   "execution_count": 36,
   "metadata": {},
   "outputs": [
    {
     "name": "stdout",
     "output_type": "stream",
     "text": [
      "second element is\n",
      "friend\n",
      "fourth element is\n",
      "10.9\n",
      "first element is\n",
      "height\n"
     ]
    }
   ],
   "source": [
    "# Popcorn Hack 4\n",
    "\n",
    "info = \"asdfghjkl;'\"\n",
    "\n",
    "list = [\"name\", \"height\", \"friend\", True, 10.9, 20.1, [1,2,3,4]]\n",
    "\n",
    "print(\"second element is\")\n",
    "print(list[2])\n",
    "\n",
    "print(\"fourth element is\")\n",
    "print(list[4])\n",
    "\n",
    "print(\"first element is\")\n",
    "print(list[1])"
   ]
  },
  {
   "cell_type": "code",
   "execution_count": 33,
   "metadata": {},
   "outputs": [
    {
     "name": "stdout",
     "output_type": "stream",
     "text": [
      "{'name: ': 'Vance', 'age: ': 15}\n"
     ]
    }
   ],
   "source": [
    "dictionary = {\n",
    "    \"name: \": \"Vance\",\n",
    "    \"age: \" :15\n",
    "}\n",
    "\n",
    "print(dictionary)"
   ]
  },
  {
   "cell_type": "markdown",
   "metadata": {},
   "source": [
    "## Homework"
   ]
  },
  {
   "cell_type": "code",
   "execution_count": 39,
   "metadata": {},
   "outputs": [
    {
     "name": "stdout",
     "output_type": "stream",
     "text": [
      "People in the list:\n",
      "Name: Ronnit, Age: 16\n",
      "Name: Vance, Age: 15\n",
      "Name: Greg, Age: 56\n",
      "\n",
      "Oldest person in the dictionary:\n",
      "The oldest person is Greg with age 56.\n"
     ]
    }
   ],
   "source": [
    "class Person:\n",
    "    def __init__(self, name, age):\n",
    "        self.name = name\n",
    "        self.age = age\n",
    "\n",
    "def print_people(people_list):\n",
    "    for person in people_list:\n",
    "        print(f\"Name: {person.name}, Age: {person.age}\")\n",
    "\n",
    "def find_oldest_person(people_dict):\n",
    "    if not people_dict:\n",
    "        print(\"The dictionary is empty.\")\n",
    "        return\n",
    "\n",
    "    oldest_person = max(people_dict, key=people_dict.get)\n",
    "    print(f\"The oldest person is {oldest_person} with age {people_dict[oldest_person]}.\")\n",
    "\n",
    "person1 = Person(\"Ronnit\", 16)\n",
    "person2 = Person(\"Vance\", 15)\n",
    "person3 = Person(\"Greg\", 56)\n",
    "\n",
    "people_list = [person1, person2, person3]\n",
    "\n",
    "people_dict = {\n",
    "    \"Ronnit\": 16,\n",
    "    \"Vance\": 15,\n",
    "    \"Greg\": 56\n",
    "}\n",
    "\n",
    "print(\"People in the list:\")\n",
    "print_people(people_list)\n",
    "\n",
    "print(\"\\nOldest person in the dictionary:\")\n",
    "find_oldest_person(people_dict)"
   ]
  }
 ],
 "metadata": {
  "kernelspec": {
   "display_name": "Python 3",
   "language": "python",
   "name": "python3"
  },
  "language_info": {
   "codemirror_mode": {
    "name": "ipython",
    "version": 3
   },
   "file_extension": ".py",
   "mimetype": "text/x-python",
   "name": "python",
   "nbconvert_exporter": "python",
   "pygments_lexer": "ipython3",
   "version": "3.10.12"
  },
  "orig_nbformat": 4
 },
 "nbformat": 4,
 "nbformat_minor": 2
}
