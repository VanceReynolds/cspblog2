{
 "cells": [
  {
   "cell_type": "markdown",
   "metadata": {},
   "source": [
    "---\n",
    "toc: true\n",
    "comments: true\n",
    "layout: post\n",
    "title: Plans For End of Tri-1\n",
    "description: Work Outline\n",
    "type: plans\n",
    "courses: { compsci: {week: 10} }\n",
    "---"
   ]
  },
  {
   "cell_type": "markdown",
   "metadata": {},
   "source": [
    "Plan for the Final Project - Individual\n",
    "\n",
    "Time Frame: Complete between October 25th and November 6th. Review your work early if you received a 1 on the analytics check. Show progress on student lessons and your plans for the College Board Quiz and study. The focus is on demonstrating your approach and iterative progress, rather than just rushing to complete work in the last days of the trimester.\n",
    "\n",
    "Individual Code: Share code that represents your contribution to the final project. It doesn't need to be fully completed but should meet teacher requirements and showcase your learning. Focus on JavaScript and/or Python, as CSS discussions are not part of individual scoring. Review your GitHub activity and be ready to discuss key commits, challenges faced in development, review tickets, and analytics.\n",
    "\n",
    "Individual Blog: Use your blog to demonstrate your learnings from the trimester. Include code and materials that reflect your work over the entire trimester. Emphasize Python and how you've organized student lessons to show your progress. Your blog should serve as a study guide for the course and future trimesters, including pseudo code notes, College Board Quiz insights, and a reflection on trimester 1, highlighting your learning, accomplishments, intentions, and opportunities for growth.\n",
    "\n",
    "Team Preparation:\n",
    "\n",
    "Prepare an ISSUE for review and grade yourself in the first 10 minutes of the class.\n",
    "Participate in a dress rehearsal where teams score each other. Each team should provide an ISSUE for scoring their project and link to it on their N@tM Sign Up page, starting with a self-grading summary.\n",
    "Evaluation Criteria:\n",
    "\n",
    "Criteria and Key Features: Frontend, APIs, Backend, scored from 3.6 to 4 points. Highlight key features in a running demo to graders for 1 minute.\n",
    "Knowledge and How It Is Made: Key features should be blogged and shown in the demo time to graders, scoring from 0.6 to 1 point.\n",
    "Value: Discuss the most useful or valuable aspect of your project.\n",
    "Both self and cross-over graders provide a total score, with 9 out of 10 being the highest achievable score. Include comments on the \"WOW Factor\" of the presentation.\n",
    "\n",
    "Note: Features discussed must be running and proven to be working from GitHub Pages or Deployment to achieve a score of 9 out of 10.\n",
    "\n",
    "To Do List:\n",
    "\n",
    "[X] CollegeBoard Practice MC\n",
    "[X] CollegeBoard Practice MC Reflection\n",
    "[X] Passion Project Reflection\n",
    "[X] Trimester 1 Reflection\n",
    "[X] Extra Credit Reviews"
   ]
  }
 ],
 "metadata": {
  "language_info": {
   "name": "python"
  }
 },
 "nbformat": 4,
 "nbformat_minor": 2
}
